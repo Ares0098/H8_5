{
 "cells": [
  {
   "cell_type": "markdown",
   "id": "8316f66c",
   "metadata": {},
   "source": [
    "### Import Library yang diperlukan"
   ]
  },
  {
   "cell_type": "code",
   "execution_count": 1,
   "id": "2208aedd",
   "metadata": {},
   "outputs": [],
   "source": [
    "import pandas as pd\n",
    "import matplotlib as mlp\n",
    "import matplotlib.pyplot as plt\n",
    "\n",
    "%matplotlib inline"
   ]
  },
  {
   "cell_type": "markdown",
   "id": "f22989d1",
   "metadata": {},
   "source": [
    "### Import Dataset dan Preview dataset"
   ]
  },
  {
   "cell_type": "code",
   "execution_count": 2,
   "id": "a2f02e30",
   "metadata": {},
   "outputs": [
    {
     "data": {
      "text/html": [
       "<div>\n",
       "<style scoped>\n",
       "    .dataframe tbody tr th:only-of-type {\n",
       "        vertical-align: middle;\n",
       "    }\n",
       "\n",
       "    .dataframe tbody tr th {\n",
       "        vertical-align: top;\n",
       "    }\n",
       "\n",
       "    .dataframe thead th {\n",
       "        text-align: right;\n",
       "    }\n",
       "</style>\n",
       "<table border=\"1\" class=\"dataframe\">\n",
       "  <thead>\n",
       "    <tr style=\"text-align: right;\">\n",
       "      <th></th>\n",
       "      <th>lsoa_code</th>\n",
       "      <th>borough</th>\n",
       "      <th>major_category</th>\n",
       "      <th>minor_category</th>\n",
       "      <th>value</th>\n",
       "      <th>year</th>\n",
       "      <th>month</th>\n",
       "    </tr>\n",
       "  </thead>\n",
       "  <tbody>\n",
       "    <tr>\n",
       "      <th>0</th>\n",
       "      <td>E01001116</td>\n",
       "      <td>Croydon</td>\n",
       "      <td>Burglary</td>\n",
       "      <td>Burglary in Other Buildings</td>\n",
       "      <td>0</td>\n",
       "      <td>2016</td>\n",
       "      <td>11</td>\n",
       "    </tr>\n",
       "    <tr>\n",
       "      <th>1</th>\n",
       "      <td>E01001646</td>\n",
       "      <td>Greenwich</td>\n",
       "      <td>Violence Against the Person</td>\n",
       "      <td>Other violence</td>\n",
       "      <td>0</td>\n",
       "      <td>2016</td>\n",
       "      <td>11</td>\n",
       "    </tr>\n",
       "    <tr>\n",
       "      <th>2</th>\n",
       "      <td>E01000677</td>\n",
       "      <td>Bromley</td>\n",
       "      <td>Violence Against the Person</td>\n",
       "      <td>Other violence</td>\n",
       "      <td>0</td>\n",
       "      <td>2015</td>\n",
       "      <td>5</td>\n",
       "    </tr>\n",
       "    <tr>\n",
       "      <th>3</th>\n",
       "      <td>E01003774</td>\n",
       "      <td>Redbridge</td>\n",
       "      <td>Burglary</td>\n",
       "      <td>Burglary in Other Buildings</td>\n",
       "      <td>0</td>\n",
       "      <td>2016</td>\n",
       "      <td>3</td>\n",
       "    </tr>\n",
       "    <tr>\n",
       "      <th>4</th>\n",
       "      <td>E01004563</td>\n",
       "      <td>Wandsworth</td>\n",
       "      <td>Robbery</td>\n",
       "      <td>Personal Property</td>\n",
       "      <td>0</td>\n",
       "      <td>2008</td>\n",
       "      <td>6</td>\n",
       "    </tr>\n",
       "    <tr>\n",
       "      <th>5</th>\n",
       "      <td>E01001320</td>\n",
       "      <td>Ealing</td>\n",
       "      <td>Theft and Handling</td>\n",
       "      <td>Other Theft</td>\n",
       "      <td>0</td>\n",
       "      <td>2012</td>\n",
       "      <td>5</td>\n",
       "    </tr>\n",
       "    <tr>\n",
       "      <th>6</th>\n",
       "      <td>E01001342</td>\n",
       "      <td>Ealing</td>\n",
       "      <td>Violence Against the Person</td>\n",
       "      <td>Offensive Weapon</td>\n",
       "      <td>0</td>\n",
       "      <td>2010</td>\n",
       "      <td>7</td>\n",
       "    </tr>\n",
       "    <tr>\n",
       "      <th>7</th>\n",
       "      <td>E01002633</td>\n",
       "      <td>Hounslow</td>\n",
       "      <td>Robbery</td>\n",
       "      <td>Personal Property</td>\n",
       "      <td>0</td>\n",
       "      <td>2013</td>\n",
       "      <td>4</td>\n",
       "    </tr>\n",
       "    <tr>\n",
       "      <th>8</th>\n",
       "      <td>E01003496</td>\n",
       "      <td>Newham</td>\n",
       "      <td>Criminal Damage</td>\n",
       "      <td>Criminal Damage To Other Building</td>\n",
       "      <td>0</td>\n",
       "      <td>2013</td>\n",
       "      <td>9</td>\n",
       "    </tr>\n",
       "    <tr>\n",
       "      <th>9</th>\n",
       "      <td>E01004177</td>\n",
       "      <td>Sutton</td>\n",
       "      <td>Theft and Handling</td>\n",
       "      <td>Theft/Taking of Pedal Cycle</td>\n",
       "      <td>1</td>\n",
       "      <td>2016</td>\n",
       "      <td>8</td>\n",
       "    </tr>\n",
       "    <tr>\n",
       "      <th>10</th>\n",
       "      <td>E01001985</td>\n",
       "      <td>Haringey</td>\n",
       "      <td>Theft and Handling</td>\n",
       "      <td>Motor Vehicle Interference &amp; Tampering</td>\n",
       "      <td>0</td>\n",
       "      <td>2013</td>\n",
       "      <td>12</td>\n",
       "    </tr>\n",
       "    <tr>\n",
       "      <th>11</th>\n",
       "      <td>E01003076</td>\n",
       "      <td>Lambeth</td>\n",
       "      <td>Violence Against the Person</td>\n",
       "      <td>Other violence</td>\n",
       "      <td>0</td>\n",
       "      <td>2015</td>\n",
       "      <td>4</td>\n",
       "    </tr>\n",
       "    <tr>\n",
       "      <th>12</th>\n",
       "      <td>E01003852</td>\n",
       "      <td>Richmond upon Thames</td>\n",
       "      <td>Robbery</td>\n",
       "      <td>Personal Property</td>\n",
       "      <td>0</td>\n",
       "      <td>2014</td>\n",
       "      <td>1</td>\n",
       "    </tr>\n",
       "    <tr>\n",
       "      <th>13</th>\n",
       "      <td>E01004547</td>\n",
       "      <td>Wandsworth</td>\n",
       "      <td>Violence Against the Person</td>\n",
       "      <td>Offensive Weapon</td>\n",
       "      <td>0</td>\n",
       "      <td>2011</td>\n",
       "      <td>10</td>\n",
       "    </tr>\n",
       "    <tr>\n",
       "      <th>14</th>\n",
       "      <td>E01002398</td>\n",
       "      <td>Hillingdon</td>\n",
       "      <td>Theft and Handling</td>\n",
       "      <td>Theft/Taking Of Motor Vehicle</td>\n",
       "      <td>0</td>\n",
       "      <td>2016</td>\n",
       "      <td>2</td>\n",
       "    </tr>\n",
       "  </tbody>\n",
       "</table>\n",
       "</div>"
      ],
      "text/plain": [
       "    lsoa_code               borough               major_category  \\\n",
       "0   E01001116               Croydon                     Burglary   \n",
       "1   E01001646             Greenwich  Violence Against the Person   \n",
       "2   E01000677               Bromley  Violence Against the Person   \n",
       "3   E01003774             Redbridge                     Burglary   \n",
       "4   E01004563            Wandsworth                      Robbery   \n",
       "5   E01001320                Ealing           Theft and Handling   \n",
       "6   E01001342                Ealing  Violence Against the Person   \n",
       "7   E01002633              Hounslow                      Robbery   \n",
       "8   E01003496                Newham              Criminal Damage   \n",
       "9   E01004177                Sutton           Theft and Handling   \n",
       "10  E01001985              Haringey           Theft and Handling   \n",
       "11  E01003076               Lambeth  Violence Against the Person   \n",
       "12  E01003852  Richmond upon Thames                      Robbery   \n",
       "13  E01004547            Wandsworth  Violence Against the Person   \n",
       "14  E01002398            Hillingdon           Theft and Handling   \n",
       "\n",
       "                            minor_category  value  year  month  \n",
       "0              Burglary in Other Buildings      0  2016     11  \n",
       "1                           Other violence      0  2016     11  \n",
       "2                           Other violence      0  2015      5  \n",
       "3              Burglary in Other Buildings      0  2016      3  \n",
       "4                        Personal Property      0  2008      6  \n",
       "5                              Other Theft      0  2012      5  \n",
       "6                         Offensive Weapon      0  2010      7  \n",
       "7                        Personal Property      0  2013      4  \n",
       "8        Criminal Damage To Other Building      0  2013      9  \n",
       "9              Theft/Taking of Pedal Cycle      1  2016      8  \n",
       "10  Motor Vehicle Interference & Tampering      0  2013     12  \n",
       "11                          Other violence      0  2015      4  \n",
       "12                       Personal Property      0  2014      1  \n",
       "13                        Offensive Weapon      0  2011     10  \n",
       "14           Theft/Taking Of Motor Vehicle      0  2016      2  "
      ]
     },
     "execution_count": 2,
     "metadata": {},
     "output_type": "execute_result"
    }
   ],
   "source": [
    "df = pd.read_csv('Dataset/london_crime_by_lsoa.csv')\n",
    "df.head(15)"
   ]
  },
  {
   "cell_type": "markdown",
   "id": "97f69916",
   "metadata": {},
   "source": [
    "# Line dan Scatter Plot"
   ]
  },
  {
   "cell_type": "markdown",
   "id": "25a3d532",
   "metadata": {},
   "source": [
    "#### Plot 1\n",
    "Plot pertama adalah untuk melihat peningkatan jumlah kejahatan pada kota london setiap tahunnya"
   ]
  },
  {
   "cell_type": "markdown",
   "id": "6e0fe4aa",
   "metadata": {},
   "source": [
    "Dua Sel kode berikut berguna untuk menyaring data yang memiliki nilai value yang lebih besar atau sama dengan 1, hal ini bertujuan untuk mendapatkan data dimana kriminal sedang terjadi ( 0 : tidak terjadi | >= 1 : terjadi )"
   ]
  },
  {
   "cell_type": "code",
   "execution_count": 3,
   "id": "e63e80b6",
   "metadata": {},
   "outputs": [],
   "source": [
    "filtering1 = (df['value'] >= 1)\n",
    "\n",
    "data_plot1 = df[filtering1]"
   ]
  },
  {
   "cell_type": "code",
   "execution_count": 4,
   "id": "c1a38420",
   "metadata": {},
   "outputs": [
    {
     "data": {
      "text/html": [
       "<div>\n",
       "<style scoped>\n",
       "    .dataframe tbody tr th:only-of-type {\n",
       "        vertical-align: middle;\n",
       "    }\n",
       "\n",
       "    .dataframe tbody tr th {\n",
       "        vertical-align: top;\n",
       "    }\n",
       "\n",
       "    .dataframe thead th {\n",
       "        text-align: right;\n",
       "    }\n",
       "</style>\n",
       "<table border=\"1\" class=\"dataframe\">\n",
       "  <thead>\n",
       "    <tr style=\"text-align: right;\">\n",
       "      <th></th>\n",
       "      <th>lsoa_code</th>\n",
       "      <th>borough</th>\n",
       "      <th>major_category</th>\n",
       "      <th>minor_category</th>\n",
       "      <th>value</th>\n",
       "      <th>year</th>\n",
       "      <th>month</th>\n",
       "    </tr>\n",
       "  </thead>\n",
       "  <tbody>\n",
       "    <tr>\n",
       "      <th>9</th>\n",
       "      <td>E01004177</td>\n",
       "      <td>Sutton</td>\n",
       "      <td>Theft and Handling</td>\n",
       "      <td>Theft/Taking of Pedal Cycle</td>\n",
       "      <td>1</td>\n",
       "      <td>2016</td>\n",
       "      <td>8</td>\n",
       "    </tr>\n",
       "    <tr>\n",
       "      <th>16</th>\n",
       "      <td>E01000086</td>\n",
       "      <td>Barking and Dagenham</td>\n",
       "      <td>Theft and Handling</td>\n",
       "      <td>Other Theft Person</td>\n",
       "      <td>1</td>\n",
       "      <td>2009</td>\n",
       "      <td>5</td>\n",
       "    </tr>\n",
       "    <tr>\n",
       "      <th>24</th>\n",
       "      <td>E01001301</td>\n",
       "      <td>Ealing</td>\n",
       "      <td>Theft and Handling</td>\n",
       "      <td>Other Theft Person</td>\n",
       "      <td>2</td>\n",
       "      <td>2012</td>\n",
       "      <td>1</td>\n",
       "    </tr>\n",
       "    <tr>\n",
       "      <th>25</th>\n",
       "      <td>E01001794</td>\n",
       "      <td>Hackney</td>\n",
       "      <td>Violence Against the Person</td>\n",
       "      <td>Harassment</td>\n",
       "      <td>1</td>\n",
       "      <td>2013</td>\n",
       "      <td>2</td>\n",
       "    </tr>\n",
       "    <tr>\n",
       "      <th>32</th>\n",
       "      <td>E01000733</td>\n",
       "      <td>Bromley</td>\n",
       "      <td>Criminal Damage</td>\n",
       "      <td>Criminal Damage To Motor Vehicle</td>\n",
       "      <td>1</td>\n",
       "      <td>2016</td>\n",
       "      <td>4</td>\n",
       "    </tr>\n",
       "    <tr>\n",
       "      <th>...</th>\n",
       "      <td>...</td>\n",
       "      <td>...</td>\n",
       "      <td>...</td>\n",
       "      <td>...</td>\n",
       "      <td>...</td>\n",
       "      <td>...</td>\n",
       "      <td>...</td>\n",
       "    </tr>\n",
       "    <tr>\n",
       "      <th>13490581</th>\n",
       "      <td>E01000789</td>\n",
       "      <td>Bromley</td>\n",
       "      <td>Violence Against the Person</td>\n",
       "      <td>Harassment</td>\n",
       "      <td>3</td>\n",
       "      <td>2009</td>\n",
       "      <td>12</td>\n",
       "    </tr>\n",
       "    <tr>\n",
       "      <th>13490584</th>\n",
       "      <td>E01003301</td>\n",
       "      <td>Lewisham</td>\n",
       "      <td>Violence Against the Person</td>\n",
       "      <td>Assault with Injury</td>\n",
       "      <td>1</td>\n",
       "      <td>2015</td>\n",
       "      <td>10</td>\n",
       "    </tr>\n",
       "    <tr>\n",
       "      <th>13490590</th>\n",
       "      <td>E01001679</td>\n",
       "      <td>Greenwich</td>\n",
       "      <td>Theft and Handling</td>\n",
       "      <td>Theft/Taking Of Motor Vehicle</td>\n",
       "      <td>1</td>\n",
       "      <td>2012</td>\n",
       "      <td>4</td>\n",
       "    </tr>\n",
       "    <tr>\n",
       "      <th>13490592</th>\n",
       "      <td>E01033327</td>\n",
       "      <td>Lewisham</td>\n",
       "      <td>Violence Against the Person</td>\n",
       "      <td>Common Assault</td>\n",
       "      <td>2</td>\n",
       "      <td>2013</td>\n",
       "      <td>7</td>\n",
       "    </tr>\n",
       "    <tr>\n",
       "      <th>13490600</th>\n",
       "      <td>E01002504</td>\n",
       "      <td>Hillingdon</td>\n",
       "      <td>Robbery</td>\n",
       "      <td>Personal Property</td>\n",
       "      <td>1</td>\n",
       "      <td>2015</td>\n",
       "      <td>6</td>\n",
       "    </tr>\n",
       "  </tbody>\n",
       "</table>\n",
       "<p>3419099 rows × 7 columns</p>\n",
       "</div>"
      ],
      "text/plain": [
       "          lsoa_code               borough               major_category  \\\n",
       "9         E01004177                Sutton           Theft and Handling   \n",
       "16        E01000086  Barking and Dagenham           Theft and Handling   \n",
       "24        E01001301                Ealing           Theft and Handling   \n",
       "25        E01001794               Hackney  Violence Against the Person   \n",
       "32        E01000733               Bromley              Criminal Damage   \n",
       "...             ...                   ...                          ...   \n",
       "13490581  E01000789               Bromley  Violence Against the Person   \n",
       "13490584  E01003301              Lewisham  Violence Against the Person   \n",
       "13490590  E01001679             Greenwich           Theft and Handling   \n",
       "13490592  E01033327              Lewisham  Violence Against the Person   \n",
       "13490600  E01002504            Hillingdon                      Robbery   \n",
       "\n",
       "                            minor_category  value  year  month  \n",
       "9              Theft/Taking of Pedal Cycle      1  2016      8  \n",
       "16                      Other Theft Person      1  2009      5  \n",
       "24                      Other Theft Person      2  2012      1  \n",
       "25                              Harassment      1  2013      2  \n",
       "32        Criminal Damage To Motor Vehicle      1  2016      4  \n",
       "...                                    ...    ...   ...    ...  \n",
       "13490581                        Harassment      3  2009     12  \n",
       "13490584               Assault with Injury      1  2015     10  \n",
       "13490590     Theft/Taking Of Motor Vehicle      1  2012      4  \n",
       "13490592                    Common Assault      2  2013      7  \n",
       "13490600                 Personal Property      1  2015      6  \n",
       "\n",
       "[3419099 rows x 7 columns]"
      ]
     },
     "execution_count": 4,
     "metadata": {},
     "output_type": "execute_result"
    }
   ],
   "source": [
    "data_plot1"
   ]
  },
  {
   "cell_type": "markdown",
   "id": "06880fb9",
   "metadata": {},
   "source": [
    "--------------------------------------------------------------------------------------------------------"
   ]
  },
  {
   "cell_type": "markdown",
   "id": "304a3bdc",
   "metadata": {},
   "source": [
    "Sel kode berikut berguna untuk melihat angka kejahatan setiap tahunnya dari tahun 2008 sampai 2016 dalam bentuk tabel"
   ]
  },
  {
   "cell_type": "code",
   "execution_count": 5,
   "id": "7853f2b7",
   "metadata": {},
   "outputs": [],
   "source": [
    "plot1 = data_plot1.groupby(\"year\").size().reset_index(name=\"count\")"
   ]
  },
  {
   "cell_type": "code",
   "execution_count": 6,
   "id": "5d354816",
   "metadata": {},
   "outputs": [
    {
     "data": {
      "text/html": [
       "<div>\n",
       "<style scoped>\n",
       "    .dataframe tbody tr th:only-of-type {\n",
       "        vertical-align: middle;\n",
       "    }\n",
       "\n",
       "    .dataframe tbody tr th {\n",
       "        vertical-align: top;\n",
       "    }\n",
       "\n",
       "    .dataframe thead th {\n",
       "        text-align: right;\n",
       "    }\n",
       "</style>\n",
       "<table border=\"1\" class=\"dataframe\">\n",
       "  <thead>\n",
       "    <tr style=\"text-align: right;\">\n",
       "      <th></th>\n",
       "      <th>year</th>\n",
       "      <th>count</th>\n",
       "    </tr>\n",
       "  </thead>\n",
       "  <tbody>\n",
       "    <tr>\n",
       "      <th>0</th>\n",
       "      <td>2008</td>\n",
       "      <td>391242</td>\n",
       "    </tr>\n",
       "    <tr>\n",
       "      <th>1</th>\n",
       "      <td>2009</td>\n",
       "      <td>383008</td>\n",
       "    </tr>\n",
       "    <tr>\n",
       "      <th>2</th>\n",
       "      <td>2010</td>\n",
       "      <td>379349</td>\n",
       "    </tr>\n",
       "    <tr>\n",
       "      <th>3</th>\n",
       "      <td>2011</td>\n",
       "      <td>378814</td>\n",
       "    </tr>\n",
       "    <tr>\n",
       "      <th>4</th>\n",
       "      <td>2012</td>\n",
       "      <td>377721</td>\n",
       "    </tr>\n",
       "    <tr>\n",
       "      <th>5</th>\n",
       "      <td>2013</td>\n",
       "      <td>364680</td>\n",
       "    </tr>\n",
       "    <tr>\n",
       "      <th>6</th>\n",
       "      <td>2014</td>\n",
       "      <td>370384</td>\n",
       "    </tr>\n",
       "    <tr>\n",
       "      <th>7</th>\n",
       "      <td>2015</td>\n",
       "      <td>381859</td>\n",
       "    </tr>\n",
       "    <tr>\n",
       "      <th>8</th>\n",
       "      <td>2016</td>\n",
       "      <td>392042</td>\n",
       "    </tr>\n",
       "  </tbody>\n",
       "</table>\n",
       "</div>"
      ],
      "text/plain": [
       "   year   count\n",
       "0  2008  391242\n",
       "1  2009  383008\n",
       "2  2010  379349\n",
       "3  2011  378814\n",
       "4  2012  377721\n",
       "5  2013  364680\n",
       "6  2014  370384\n",
       "7  2015  381859\n",
       "8  2016  392042"
      ]
     },
     "execution_count": 6,
     "metadata": {},
     "output_type": "execute_result"
    }
   ],
   "source": [
    "plot1"
   ]
  },
  {
   "cell_type": "markdown",
   "id": "e7fbe362",
   "metadata": {},
   "source": [
    "--------------------------------------------------------------------------------------------------------"
   ]
  },
  {
   "cell_type": "markdown",
   "id": "33808075",
   "metadata": {},
   "source": [
    "Sel kode berikut berguna untuk distribusi dari hasil tabel tersebut, dalam bentuk scatterplot sekaligus dihubungkan dengan garis"
   ]
  },
  {
   "cell_type": "code",
   "execution_count": 7,
   "id": "bc7df38a",
   "metadata": {},
   "outputs": [
    {
     "data": {
      "image/png": "[encoded data removed]",
      "text/plain": [
       "<Figure size 936x576 with 1 Axes>"
      ]
     },
     "metadata": {
      "needs_background": "light"
     },
     "output_type": "display_data"
    }
   ],
   "source": [
    "plt.figure(figsize = (13, 8))\n",
    "plt.plot(plot1['year'], plot1['count'], color='red', marker='o')\n",
    "plt.scatter(plot1['year'], plot1['count'])\n",
    "plt.title(\"Grafik angka kriminal di London (2008 - 2016)\", fontsize = 15)\n",
    "plt.xlabel('Tahun')\n",
    "plt.ylabel('Jumlah Angka Kriminal')\n",
    "plt.grid(True)\n",
    "plt.show()"
   ]
  },
  {
   "cell_type": "markdown",
   "id": "b70182cf",
   "metadata": {},
   "source": [
    "##### Insigh\n",
    "Dari plot diatas bisa dilihat, dari tahun 2008 - 2013 angka kriminal mengalami penurunan, tetapi setelah tahun 2013 angka kriminal di london mengalami kenaikan sampai tahun 2016"
   ]
  },
  {
   "cell_type": "markdown",
   "id": "f16266e3",
   "metadata": {},
   "source": [
    "=================================================================================================================="
   ]
  },
  {
   "cell_type": "markdown",
   "id": "f8fde5f0",
   "metadata": {},
   "source": [
    "#### Plot 2\n",
    "Plot kedua adalah untuk melihat peningkatan jumlah kejahatan pada empat wilayah dengan jumlah angka kriminal tertinggi di kota london setiap tahunnya (2008 - 2016)"
   ]
  },
  {
   "cell_type": "markdown",
   "id": "20b50d9f",
   "metadata": {},
   "source": [
    "Sel kode berikut berguna untuk melihat empat borough yang memiliki angka kriminal tertinggi "
   ]
  },
  {
   "cell_type": "code",
   "execution_count": 8,
   "id": "3cb8ef1d",
   "metadata": {},
   "outputs": [],
   "source": [
    "data_plot1_x = data_plot1.groupby(\"borough\").size().reset_index(name=\"count\")\n",
    "data_plot1_x = data_plot1_x.sort_values(by = ['count'], ascending=False)\n",
    "data_plot1_x = data_plot1_x.reset_index()\n",
    "data_plot1_x = data_plot1_x.drop(columns=['index'])"
   ]
  },
  {
   "cell_type": "code",
   "execution_count": 9,
   "id": "769bf482",
   "metadata": {},
   "outputs": [
    {
     "data": {
      "text/html": [
       "<div>\n",
       "<style scoped>\n",
       "    .dataframe tbody tr th:only-of-type {\n",
       "        vertical-align: middle;\n",
       "    }\n",
       "\n",
       "    .dataframe tbody tr th {\n",
       "        vertical-align: top;\n",
       "    }\n",
       "\n",
       "    .dataframe thead th {\n",
       "        text-align: right;\n",
       "    }\n",
       "</style>\n",
       "<table border=\"1\" class=\"dataframe\">\n",
       "  <thead>\n",
       "    <tr style=\"text-align: right;\">\n",
       "      <th></th>\n",
       "      <th>borough</th>\n",
       "      <th>count</th>\n",
       "    </tr>\n",
       "  </thead>\n",
       "  <tbody>\n",
       "    <tr>\n",
       "      <th>0</th>\n",
       "      <td>Lambeth</td>\n",
       "      <td>152784</td>\n",
       "    </tr>\n",
       "    <tr>\n",
       "      <th>1</th>\n",
       "      <td>Croydon</td>\n",
       "      <td>147203</td>\n",
       "    </tr>\n",
       "    <tr>\n",
       "      <th>2</th>\n",
       "      <td>Southwark</td>\n",
       "      <td>144362</td>\n",
       "    </tr>\n",
       "    <tr>\n",
       "      <th>3</th>\n",
       "      <td>Ealing</td>\n",
       "      <td>140006</td>\n",
       "    </tr>\n",
       "  </tbody>\n",
       "</table>\n",
       "</div>"
      ],
      "text/plain": [
       "     borough   count\n",
       "0    Lambeth  152784\n",
       "1    Croydon  147203\n",
       "2  Southwark  144362\n",
       "3     Ealing  140006"
      ]
     },
     "execution_count": 9,
     "metadata": {},
     "output_type": "execute_result"
    }
   ],
   "source": [
    "data_plot1_x.head(4)"
   ]
  },
  {
   "cell_type": "markdown",
   "id": "9950a01d",
   "metadata": {},
   "source": [
    "--------------------------------------------------------------------------------------------------------"
   ]
  },
  {
   "cell_type": "markdown",
   "id": "8b67ec12",
   "metadata": {},
   "source": [
    "Sel kode berikut berguna untuk membuat seleksi terhadap empat borough tertinggi sekaligus menghitung angka kriminal pada borough tersebut setiap tahunnya"
   ]
  },
  {
   "cell_type": "code",
   "execution_count": 10,
   "id": "93010cce",
   "metadata": {},
   "outputs": [],
   "source": [
    "df_plot_line2 = df.drop(columns=['lsoa_code', 'major_category', 'minor_category', 'month'])\n",
    "\n",
    "data_borough1 = df_plot_line2[(df_plot_line2['value'] >= 1) & (df_plot_line2['borough'] == 'Croydon' )].groupby(\"year\").size().reset_index(name=\"count\")\n",
    "data_borough2 = df_plot_line2[(df_plot_line2['value'] >= 1) & (df_plot_line2['borough'] == 'Lambeth' )].groupby(\"year\").size().reset_index(name=\"count\")\n",
    "data_borough3 = df_plot_line2[(df_plot_line2['value'] >= 1) & (df_plot_line2['borough'] == 'Ealing' )].groupby(\"year\").size().reset_index(name=\"count\")\n",
    "data_borough4 = df_plot_line2[(df_plot_line2['value'] >= 1) & (df_plot_line2['borough'] == 'Southwark' )].groupby(\"year\").size().reset_index(name=\"count\")"
   ]
  },
  {
   "cell_type": "markdown",
   "id": "1221a3f2",
   "metadata": {},
   "source": [
    "--------------------------------------------------------------------------------------------------------"
   ]
  },
  {
   "cell_type": "markdown",
   "id": "93c8eae8",
   "metadata": {},
   "source": [
    "Sel kode berikut berguna untuk membuat plotting terhadap ketentuan sebelumnya yaitu melihat distribusi kenaikan dan penurunan angka kriminal di empat borough dengan angka kriminal tertinggi"
   ]
  },
  {
   "cell_type": "code",
   "execution_count": 12,
   "id": "a7bc01fb",
   "metadata": {},
   "outputs": [
    {
     "data": {
      "image/png": "[encoded data removed]",
      "text/plain": [
       "<Figure size 720x720 with 4 Axes>"
      ]
     },
     "metadata": {
      "needs_background": "light"
     },
     "output_type": "display_data"
    }
   ],
   "source": [
    "plt.figure(figsize = (10, 10))\n",
    "\n",
    "# Plot untuk daerah Croydon\n",
    "plt.subplot(2,2,1)\n",
    "plt.plot(data_borough1['year'], data_borough1['count'], color='red', marker='o')\n",
    "plt.title(\"Daerah Croydon\")\n",
    "plt.grid(True)\n",
    "  \n",
    "# Plot untuk daerah Lambeth\n",
    "plt.subplot(2,2,2)\n",
    "plt.plot(data_borough2['year'], data_borough2['count'], color='red', marker='o')\n",
    "plt.title(\"Daerah Lambeth\")\n",
    "plt.grid(True)\n",
    "  \n",
    "# Plot untuk daerah Ealing\n",
    "plt.subplot(2,2,3)\n",
    "plt.plot(data_borough3['year'], data_borough3['count'], color='red', marker='o')\n",
    "plt.title(\"Daerah Ealing\")\n",
    "plt.grid(True)\n",
    "  \n",
    "# Plot untuk daerah Southwark\n",
    "plt.subplot(2,2,4)\n",
    "plt.plot(data_borough4['year'], data_borough4['count'], color='red', marker='o')\n",
    "plt.title(\"Daerah Soutwark\")\n",
    "plt.grid(True)\n",
    "\n",
    "plt.show()"
   ]
  },
  {
   "cell_type": "markdown",
   "id": "3f15a0c2",
   "metadata": {},
   "source": [
    "##### Insigh\n",
    "Dari plot diatas bisa dilihat, dari empat borough dengan angka kriminal tertinggi memiliki kesamaan dimana pada tahun 2014 angka kriminal akan mengalami kenaikan yang ditahun-tahun sebelumnya mengalami penurunan"
   ]
  },
  {
   "cell_type": "markdown",
   "id": "a64aebd8",
   "metadata": {},
   "source": [
    "=================================================================================================================="
   ]
  },
  {
   "cell_type": "markdown",
   "id": "69ba34e0",
   "metadata": {},
   "source": [
    "# Area Plot\n",
    "\n",
    "Area Plot bertujuan distribusi empat borough dengan angka kriminal tertinggi"
   ]
  },
  {
   "cell_type": "markdown",
   "id": "c44d8c2d",
   "metadata": {},
   "source": [
    "Sel berikut berguna untuk mendeklarasikan variabel yang diperlukan"
   ]
  },
  {
   "cell_type": "code",
   "execution_count": 13,
   "id": "ec5e26cd",
   "metadata": {},
   "outputs": [],
   "source": [
    "borough1_year = []\n",
    "borough2_year = []\n",
    "borough3_year = []\n",
    "borough4_year = []\n",
    "\n",
    "borof = [borough1_year, borough2_year, borough3_year, borough4_year]\n",
    "\n",
    "year = [2008, 2009, 2011, 2012, 2013, 2014, 2015, 2016]\n",
    "top_borough = ['Lambeth', 'Croydon', 'Southwark', 'Ealing']\n"
   ]
  },
  {
   "cell_type": "markdown",
   "id": "c5307afb",
   "metadata": {},
   "source": [
    "--------------------------------------------------------------------------------------------------------"
   ]
  },
  {
   "cell_type": "markdown",
   "id": "4ce5f7c9",
   "metadata": {},
   "source": [
    "Sel berikut berguna untuk membuat dataset baru berdasarkan dataset awal tetapi dengan menghilangkan beberapa kolom yang tidak diperlukan"
   ]
  },
  {
   "cell_type": "code",
   "execution_count": 14,
   "id": "8792301f",
   "metadata": {},
   "outputs": [],
   "source": [
    "df_area = df.drop(columns = ['lsoa_code', 'major_category', 'minor_category', 'month'])\n",
    "#condition = df_area[(df_area['value'] >= 1) & (df_area['borough'] == 'Lambeth') & (df_area['year'] == year[0])]"
   ]
  },
  {
   "cell_type": "markdown",
   "id": "b1d4db24",
   "metadata": {},
   "source": [
    "--------------------------------------------------------------------------------------------------------"
   ]
  },
  {
   "cell_type": "markdown",
   "id": "ace927ec",
   "metadata": {},
   "source": [
    "Sel berikut merupakan perulangan for yang berguna untuk mengisi variabel yang telah dideklarasikan sebelumnya"
   ]
  },
  {
   "cell_type": "code",
   "execution_count": 15,
   "id": "8ffaa6b9",
   "metadata": {},
   "outputs": [],
   "source": [
    "for i in range(len(top_borough)) :\n",
    "    borough = top_borough[i]\n",
    "    lis = borof[i]\n",
    "    for j in range(len(year)) :\n",
    "        condition = df_area[(df_area['value'] >= 1) & (df_area['borough'] == borough) & (df_area['year'] == year[j])]\n",
    "        lis.append(len(condition))"
   ]
  },
  {
   "cell_type": "markdown",
   "id": "26d0754a",
   "metadata": {},
   "source": [
    "--------------------------------------------------------------------------------------------------------"
   ]
  },
  {
   "cell_type": "markdown",
   "id": "dc8dd53b",
   "metadata": {},
   "source": [
    "Sel berikut berguna untuk membuat dataframe baru dimana dataframe ini berisi empat borough dengan angka kriminal tertinggi beserta angka kriminalnya dari tahun 2008 sampai 2016"
   ]
  },
  {
   "cell_type": "code",
   "execution_count": 16,
   "id": "6b44a0e8",
   "metadata": {},
   "outputs": [],
   "source": [
    "area_dict = {top_borough[0] : borof[0],\n",
    "            top_borough[1] : borof[1],\n",
    "            top_borough[2] : borof[2],\n",
    "            top_borough[3] : borof[3]\n",
    "            }\n",
    "\n",
    "area_df = pd.DataFrame(data = area_dict, index=year)"
   ]
  },
  {
   "cell_type": "code",
   "execution_count": 17,
   "id": "d48c83c5",
   "metadata": {},
   "outputs": [
    {
     "data": {
      "text/html": [
       "<div>\n",
       "<style scoped>\n",
       "    .dataframe tbody tr th:only-of-type {\n",
       "        vertical-align: middle;\n",
       "    }\n",
       "\n",
       "    .dataframe tbody tr th {\n",
       "        vertical-align: top;\n",
       "    }\n",
       "\n",
       "    .dataframe thead th {\n",
       "        text-align: right;\n",
       "    }\n",
       "</style>\n",
       "<table border=\"1\" class=\"dataframe\">\n",
       "  <thead>\n",
       "    <tr style=\"text-align: right;\">\n",
       "      <th></th>\n",
       "      <th>Lambeth</th>\n",
       "      <th>Croydon</th>\n",
       "      <th>Southwark</th>\n",
       "      <th>Ealing</th>\n",
       "    </tr>\n",
       "  </thead>\n",
       "  <tbody>\n",
       "    <tr>\n",
       "      <th>2008</th>\n",
       "      <td>17273</td>\n",
       "      <td>16989</td>\n",
       "      <td>16586</td>\n",
       "      <td>15984</td>\n",
       "    </tr>\n",
       "    <tr>\n",
       "      <th>2009</th>\n",
       "      <td>16985</td>\n",
       "      <td>17037</td>\n",
       "      <td>15895</td>\n",
       "      <td>16008</td>\n",
       "    </tr>\n",
       "    <tr>\n",
       "      <th>2011</th>\n",
       "      <td>17131</td>\n",
       "      <td>16743</td>\n",
       "      <td>15893</td>\n",
       "      <td>16096</td>\n",
       "    </tr>\n",
       "    <tr>\n",
       "      <th>2012</th>\n",
       "      <td>16634</td>\n",
       "      <td>16414</td>\n",
       "      <td>15681</td>\n",
       "      <td>15850</td>\n",
       "    </tr>\n",
       "    <tr>\n",
       "      <th>2013</th>\n",
       "      <td>16357</td>\n",
       "      <td>15530</td>\n",
       "      <td>16058</td>\n",
       "      <td>14729</td>\n",
       "    </tr>\n",
       "    <tr>\n",
       "      <th>2014</th>\n",
       "      <td>16757</td>\n",
       "      <td>15514</td>\n",
       "      <td>15770</td>\n",
       "      <td>14456</td>\n",
       "    </tr>\n",
       "    <tr>\n",
       "      <th>2015</th>\n",
       "      <td>17133</td>\n",
       "      <td>15826</td>\n",
       "      <td>16077</td>\n",
       "      <td>14794</td>\n",
       "    </tr>\n",
       "    <tr>\n",
       "      <th>2016</th>\n",
       "      <td>17605</td>\n",
       "      <td>16254</td>\n",
       "      <td>16560</td>\n",
       "      <td>15284</td>\n",
       "    </tr>\n",
       "  </tbody>\n",
       "</table>\n",
       "</div>"
      ],
      "text/plain": [
       "      Lambeth  Croydon  Southwark  Ealing\n",
       "2008    17273    16989      16586   15984\n",
       "2009    16985    17037      15895   16008\n",
       "2011    17131    16743      15893   16096\n",
       "2012    16634    16414      15681   15850\n",
       "2013    16357    15530      16058   14729\n",
       "2014    16757    15514      15770   14456\n",
       "2015    17133    15826      16077   14794\n",
       "2016    17605    16254      16560   15284"
      ]
     },
     "execution_count": 17,
     "metadata": {},
     "output_type": "execute_result"
    }
   ],
   "source": [
    "area_df"
   ]
  },
  {
   "cell_type": "markdown",
   "id": "65711bc1",
   "metadata": {},
   "source": [
    "--------------------------------------------------------------------------------------------------------"
   ]
  },
  {
   "cell_type": "markdown",
   "id": "02ffa3e9",
   "metadata": {},
   "source": [
    "Sel berikut berguna untuk membuat plotting distribusi menggunakan area plot"
   ]
  },
  {
   "cell_type": "code",
   "execution_count": 18,
   "id": "39d5078d",
   "metadata": {},
   "outputs": [
    {
     "data": {
      "text/plain": [
       "<function matplotlib.pyplot.show(close=None, block=None)>"
      ]
     },
     "execution_count": 18,
     "metadata": {},
     "output_type": "execute_result"
    },
    {
     "data": {
      "image/png": "[encoded data removed]",
      "text/plain": [
       "<Figure size 1440x720 with 1 Axes>"
      ]
     },
     "metadata": {
      "needs_background": "light"
     },
     "output_type": "display_data"
    }
   ],
   "source": [
    "area_df.plot(kind = 'area',\n",
    "            alpha = 0.35,\n",
    "            stacked = False,\n",
    "            figsize = (20, 10),\n",
    "            )\n",
    "\n",
    "plt.title(\"Borough dengan angka kriminal tertinggi \")\n",
    "plt.xlabel(\"Tahun\")\n",
    "plt.ylabel(\"Jumlah angka kriminal\")\n",
    "\n",
    "plt.show"
   ]
  },
  {
   "cell_type": "markdown",
   "id": "93ed3d92",
   "metadata": {},
   "source": [
    "##### Insigh\n",
    "Dari plot diatas bisa dilihat area plot, distribusi kenaikan dan penurunan angka kejahatan setiap tahunnya pada 4 borough dengan angka kriminal tertinggi"
   ]
  },
  {
   "cell_type": "markdown",
   "id": "509e0537",
   "metadata": {},
   "source": [
    "=================================================================================================================="
   ]
  },
  {
   "cell_type": "markdown",
   "id": "be74cb90",
   "metadata": {},
   "source": [
    "# Histogram"
   ]
  },
  {
   "cell_type": "markdown",
   "id": "4b6ae8c8",
   "metadata": {},
   "source": [
    "#### Plot 1\n",
    "Plot 1 berguna untuk melihat distribusi angka kriminal pada 5 wilayah dengan angka kriminal tertinggi"
   ]
  },
  {
   "cell_type": "code",
   "execution_count": 19,
   "id": "7097195d",
   "metadata": {},
   "outputs": [],
   "source": [
    "df_hist = area_df"
   ]
  },
  {
   "cell_type": "code",
   "execution_count": 20,
   "id": "aac06455",
   "metadata": {},
   "outputs": [
    {
     "data": {
      "text/plain": [
       "<AxesSubplot:ylabel='Frequency'>"
      ]
     },
     "execution_count": 20,
     "metadata": {},
     "output_type": "execute_result"
    },
    {
     "data": {
      "image/png": "[encoded data removed]",
      "text/plain": [
       "<Figure size 576x360 with 1 Axes>"
      ]
     },
     "metadata": {
      "needs_background": "light"
     },
     "output_type": "display_data"
    }
   ],
   "source": [
    "df_hist['Lambeth'].plot(kind='hist', figsize = (8, 5))"
   ]
  },
  {
   "cell_type": "code",
   "execution_count": null,
   "id": "af4bf981",
   "metadata": {},
   "outputs": [],
   "source": []
  },
  {
   "cell_type": "code",
   "execution_count": null,
   "id": "9822cdd6",
   "metadata": {},
   "outputs": [],
   "source": []
  },
  {
   "cell_type": "markdown",
   "id": "e8290f94",
   "metadata": {},
   "source": [
    "=================================================================================================================="
   ]
  },
  {
   "cell_type": "markdown",
   "id": "52fe5d3e",
   "metadata": {},
   "source": [
    "# Bar Chart"
   ]
  },
  {
   "cell_type": "markdown",
   "id": "795b2f04",
   "metadata": {},
   "source": [
    "#### Plot 1\n",
    "Plot 1 berguna untuk melihat distribusi jenis kriminal utama yang terjadi di london"
   ]
  },
  {
   "cell_type": "code",
   "execution_count": 21,
   "id": "7af3abae",
   "metadata": {},
   "outputs": [],
   "source": [
    "df_bar = df.drop(columns = ['lsoa_code', 'minor_category', 'month', 'borough', 'year'])\n",
    "df_bar = df_bar[df_bar['value'] >= 1]\n",
    "df_bar = df_bar.groupby(\"major_category\").size().reset_index(name='counts')\n",
    "df_bar = df_bar.sort_values(by = ['counts'], ascending=False)"
   ]
  },
  {
   "cell_type": "code",
   "execution_count": 22,
   "id": "7bc4c280",
   "metadata": {},
   "outputs": [
    {
     "data": {
      "image/png": "[encoded data removed]",
      "text/plain": [
       "<Figure size 1080x720 with 1 Axes>"
      ]
     },
     "metadata": {
      "needs_background": "light"
     },
     "output_type": "display_data"
    }
   ],
   "source": [
    "plt.figure(figsize = (15, 10))\n",
    "plt.bar(x = df_bar['major_category'], height=df_bar['counts'])\n",
    "plt.xlabel(\"Jenis Kriminal Utama\")\n",
    "plt.xticks(rotation = 90)\n",
    "plt.show()"
   ]
  },
  {
   "cell_type": "markdown",
   "id": "1537c8f9",
   "metadata": {},
   "source": [
    "##### Insigh\n",
    "Dari plot diatas bisa dilihat, jenis kriminal yang paling sering terjadi dari rentang tahun 2008 - 2016 adalah Kasus Pencurian (Theft and Handling) lalu diikuti dengan Kekerasan terhadap Seseorang(Violence Against the Person) dan Kerusakan vandalisme (Criminal Damage)"
   ]
  },
  {
   "cell_type": "markdown",
   "id": "fcef6ae9",
   "metadata": {},
   "source": [
    "=================================================================================================================="
   ]
  },
  {
   "cell_type": "markdown",
   "id": "bc61d644",
   "metadata": {},
   "source": [
    "# Pie Chart"
   ]
  },
  {
   "cell_type": "markdown",
   "id": "19703191",
   "metadata": {},
   "source": [
    "Sel dibawah berguna untuk membuat dataframe baru yang dari distribusi sebelumnya lalu menggunakan data tersebut untuk membuat pie chart"
   ]
  },
  {
   "cell_type": "code",
   "execution_count": 23,
   "id": "b9ba3094",
   "metadata": {},
   "outputs": [
    {
     "data": {
      "image/png": "[encoded data removed]",
      "text/plain": [
       "<Figure size 1080x1080 with 1 Axes>"
      ]
     },
     "metadata": {},
     "output_type": "display_data"
    }
   ],
   "source": [
    "df_pie = df_bar\n",
    "colors_list = ['gold', 'yellowgreen', 'lightcoral', 'lightskyblue', 'lightgreen', 'pink', 'red', 'grey', 'blue']\n",
    "explode_list = [0.09, 0, 0, 0, 0, 0, 0, 0.5, 0.2]\n",
    "\n",
    "df_pie['counts'].plot(kind = 'pie',\n",
    "                      figsize = (15,15),\n",
    "                      autopct = '%1.1f%%',\n",
    "                      startangle = 90,\n",
    "                      shadow = True,\n",
    "                      labels = None,\n",
    "                      pctdistance = 1.12,\n",
    "                      colors = colors_list,\n",
    "                      explode = explode_list\n",
    "                     )\n",
    "\n",
    "plt.axis('equal')\n",
    "plt.legend(labels=df_pie['major_category'], loc='upper right')\n",
    "plt.show()"
   ]
  },
  {
   "cell_type": "markdown",
   "id": "86c6e7ad",
   "metadata": {},
   "source": [
    "##### Insigh\n",
    "Dari plot diatas bisa dilihat dengan bentuk distribusi yang lebih baik, jenis kriminal yang paling sering terjadi dari rentang tahun 2008 - 2016 adalah Kasus Pencurian (Theft and Handling) lalu diikuti dengan Kekerasan terhadap Seseorang(Violence Against the Person) dan Kerusakan vandalisme (Criminal Damage)"
   ]
  },
  {
   "cell_type": "markdown",
   "id": "d9c1532d",
   "metadata": {},
   "source": [
    "Sedangkan Fraud or Forgery dan Sexual Offences hanya berjumlah 0.1% dan dibawah 0.1%"
   ]
  },
  {
   "cell_type": "markdown",
   "id": "3bc0dc03",
   "metadata": {},
   "source": [
    "=================================================================================================================="
   ]
  },
  {
   "cell_type": "markdown",
   "id": "e138b0fb",
   "metadata": {},
   "source": [
    "# Box Plot"
   ]
  },
  {
   "cell_type": "markdown",
   "id": "18d5f56b",
   "metadata": {},
   "source": [
    "Sel dibawah berguna untuk membuat dataframe baru yang digunakan untuk membuat boxplot nantinya"
   ]
  },
  {
   "cell_type": "code",
   "execution_count": 24,
   "id": "1e24114e",
   "metadata": {},
   "outputs": [
    {
     "data": {
      "text/html": [
       "<div>\n",
       "<style scoped>\n",
       "    .dataframe tbody tr th:only-of-type {\n",
       "        vertical-align: middle;\n",
       "    }\n",
       "\n",
       "    .dataframe tbody tr th {\n",
       "        vertical-align: top;\n",
       "    }\n",
       "\n",
       "    .dataframe thead th {\n",
       "        text-align: right;\n",
       "    }\n",
       "</style>\n",
       "<table border=\"1\" class=\"dataframe\">\n",
       "  <thead>\n",
       "    <tr style=\"text-align: right;\">\n",
       "      <th></th>\n",
       "      <th>Lambeth</th>\n",
       "      <th>Croydon</th>\n",
       "      <th>Southwark</th>\n",
       "      <th>Ealing</th>\n",
       "    </tr>\n",
       "  </thead>\n",
       "  <tbody>\n",
       "    <tr>\n",
       "      <th>2008</th>\n",
       "      <td>17273</td>\n",
       "      <td>16989</td>\n",
       "      <td>16586</td>\n",
       "      <td>15984</td>\n",
       "    </tr>\n",
       "    <tr>\n",
       "      <th>2009</th>\n",
       "      <td>16985</td>\n",
       "      <td>17037</td>\n",
       "      <td>15895</td>\n",
       "      <td>16008</td>\n",
       "    </tr>\n",
       "    <tr>\n",
       "      <th>2011</th>\n",
       "      <td>17131</td>\n",
       "      <td>16743</td>\n",
       "      <td>15893</td>\n",
       "      <td>16096</td>\n",
       "    </tr>\n",
       "    <tr>\n",
       "      <th>2012</th>\n",
       "      <td>16634</td>\n",
       "      <td>16414</td>\n",
       "      <td>15681</td>\n",
       "      <td>15850</td>\n",
       "    </tr>\n",
       "    <tr>\n",
       "      <th>2013</th>\n",
       "      <td>16357</td>\n",
       "      <td>15530</td>\n",
       "      <td>16058</td>\n",
       "      <td>14729</td>\n",
       "    </tr>\n",
       "    <tr>\n",
       "      <th>2014</th>\n",
       "      <td>16757</td>\n",
       "      <td>15514</td>\n",
       "      <td>15770</td>\n",
       "      <td>14456</td>\n",
       "    </tr>\n",
       "    <tr>\n",
       "      <th>2015</th>\n",
       "      <td>17133</td>\n",
       "      <td>15826</td>\n",
       "      <td>16077</td>\n",
       "      <td>14794</td>\n",
       "    </tr>\n",
       "    <tr>\n",
       "      <th>2016</th>\n",
       "      <td>17605</td>\n",
       "      <td>16254</td>\n",
       "      <td>16560</td>\n",
       "      <td>15284</td>\n",
       "    </tr>\n",
       "  </tbody>\n",
       "</table>\n",
       "</div>"
      ],
      "text/plain": [
       "      Lambeth  Croydon  Southwark  Ealing\n",
       "2008    17273    16989      16586   15984\n",
       "2009    16985    17037      15895   16008\n",
       "2011    17131    16743      15893   16096\n",
       "2012    16634    16414      15681   15850\n",
       "2013    16357    15530      16058   14729\n",
       "2014    16757    15514      15770   14456\n",
       "2015    17133    15826      16077   14794\n",
       "2016    17605    16254      16560   15284"
      ]
     },
     "execution_count": 24,
     "metadata": {},
     "output_type": "execute_result"
    }
   ],
   "source": [
    "box_df = area_df\n",
    "box_df"
   ]
  },
  {
   "cell_type": "markdown",
   "id": "ae17285f",
   "metadata": {},
   "source": [
    "--------------------------------------------------------------------------------------------------------"
   ]
  },
  {
   "cell_type": "markdown",
   "id": "1723b593",
   "metadata": {},
   "source": [
    "Sel dibawah berguna untuk membuat boxplot dari dataframe yang telah dibuat sebelumnya"
   ]
  },
  {
   "cell_type": "code",
   "execution_count": 25,
   "id": "10068a34",
   "metadata": {},
   "outputs": [
    {
     "data": {
      "image/png": "[encoded data removed]",
      "text/plain": [
       "<Figure size 576x432 with 1 Axes>"
      ]
     },
     "metadata": {
      "needs_background": "light"
     },
     "output_type": "display_data"
    }
   ],
   "source": [
    "box_df.plot(kind='box', figsize = (8, 6))\n",
    "\n",
    "plt.title('Boxplot dari 4 borough tertinggi')\n",
    "plt.ylabel('Jumlah angka Kriminal')\n",
    "\n",
    "plt.show()"
   ]
  },
  {
   "cell_type": "markdown",
   "id": "a47c1b54",
   "metadata": {},
   "source": [
    "#### Data yang didapat dari boxplot "
   ]
  },
  {
   "cell_type": "markdown",
   "id": "c1d76828",
   "metadata": {},
   "source": [
    "Lambeth : \n",
    "- min = ~17600\n",
    "- max = ~16300\n",
    "- median = ~17000\n",
    "- Q1 = ~16750\n",
    "- Q3 = ~17200"
   ]
  },
  {
   "cell_type": "markdown",
   "id": "547243b4",
   "metadata": {},
   "source": [
    "Croydon :\n",
    "- min = ~15500\n",
    "- max = ~17000\n",
    "- median = ~16250\n",
    "- Q1 = ~15750\n",
    "- Q3 = ~16250"
   ]
  },
  {
   "cell_type": "markdown",
   "id": "c2a32ced",
   "metadata": {},
   "source": [
    "Southwark :\n",
    "- min = ~15600\n",
    "- max = ~16600\n",
    "- median = ~16000\n",
    "- Q1 = ~15850\n",
    "- Q3 = ~16200"
   ]
  },
  {
   "cell_type": "markdown",
   "id": "3f40e418",
   "metadata": {},
   "source": [
    "Ealing :\n",
    "- min = ~14500\n",
    "- max = ~16100\n",
    "- median = ~15550\n",
    "- Q1 = ~14800\n",
    "- Q3 = ~16000"
   ]
  },
  {
   "cell_type": "markdown",
   "id": "3730c45c",
   "metadata": {},
   "source": [
    "=================================================================================================================="
   ]
  },
  {
   "cell_type": "markdown",
   "id": "a208ca52",
   "metadata": {},
   "source": [
    "# Folium Map"
   ]
  },
  {
   "cell_type": "markdown",
   "id": "f4bd83d9",
   "metadata": {},
   "source": [
    "Berikut bentuk peta dari empat borough dengan tingkat kriminal tertinggi"
   ]
  },
  {
   "cell_type": "markdown",
   "id": "40d0e4b2",
   "metadata": {},
   "source": [
    "Sel dibawah berguna untuk mengimport library folium dan mendeklarasikan latitude dan longitude dari empat borough dengan angka kriminal tertinggi di London"
   ]
  },
  {
   "cell_type": "code",
   "execution_count": 26,
   "id": "92f62a5b",
   "metadata": {},
   "outputs": [],
   "source": [
    "import folium\n",
    "\n",
    "Lambeth = [51.503324, -0.119543]\n",
    "Croydon = [51.376165, -0.098234]\n",
    "Southwark = [51.4500, -0.0833]\n",
    "Ealing = [51.5000, -0.3333]"
   ]
  },
  {
   "cell_type": "markdown",
   "id": "5d7db1c1",
   "metadata": {},
   "source": [
    "--------------------------------------------------------------------------------------------------------"
   ]
  },
  {
   "cell_type": "markdown",
   "id": "2d15cca5",
   "metadata": {},
   "source": [
    "Sel dibawah berguna untuk melihat peta daerah Lambeth"
   ]
  },
  {
   "cell_type": "code",
   "execution_count": 26,
   "id": "d0a62818",
   "metadata": {
    "scrolled": false
   },
   "outputs": [
    {
     "data": {
      "text/html": [
       "<div style=\"width:100%;\"><div style=\"position:relative;width:100%;height:0;padding-bottom:60%;\"><span style=\"color:#565656\">Make this Notebook Trusted to load map: File -> Trust Notebook</span><iframe src=\"about:blank\" style=\"position:absolute;width:100%;height:100%;left:0;top:0;border:none !important;\" data-html=%3C%21DOCTYPE%20html%3E%0A%3Chead%3E%20%20%20%20%0A%20%20%20%20%3Cmeta%20http-equiv%3D%22content-type%22%20content%3D%22text/html%3B%20charset%3DUTF-8%22%20/%3E%0A%20%20%20%20%0A%20%20%20%20%20%20%20%20%3Cscript%3E%0A%20%20%20%20%20%20%20%20%20%20%20%20L_NO_TOUCH%20%3D%20false%3B%0A%20%20%20%20%20%20%20%20%20%20%20%20L_DISABLE_3D%20%3D%20false%3B%0A%20%20%20%20%20%20%20%20%3C/script%3E%0A%20%20%20%20%0A%20%20%20%20%3Cstyle%3Ehtml%2C%20body%20%7Bwidth%3A%20100%25%3Bheight%3A%20100%25%3Bmargin%3A%200%3Bpadding%3A%200%3B%7D%3C/style%3E%0A%20%20%20%20%3Cstyle%3E%23map%20%7Bposition%3Aabsolute%3Btop%3A0%3Bbottom%3A0%3Bright%3A0%3Bleft%3A0%3B%7D%3C/style%3E%0A%20%20%20%20%3Cscript%20src%3D%22https%3A//cdn.jsdelivr.net/npm/leaflet%401.6.0/dist/leaflet.js%22%3E%3C/script%3E%0A%20%20%20%20%3Cscript%20src%3D%22https%3A//code.jquery.com/jquery-1.12.4.min.js%22%3E%3C/script%3E%0A%20%20%20%20%3Cscript%20src%3D%22https%3A//maxcdn.bootstrapcdn.com/bootstrap/3.2.0/js/bootstrap.min.js%22%3E%3C/script%3E%0A%20%20%20%20%3Cscript%20src%3D%22https%3A//cdnjs.cloudflare.com/ajax/libs/Leaflet.awesome-markers/2.0.2/leaflet.awesome-markers.js%22%3E%3C/script%3E%0A%20%20%20%20%3Clink%20rel%3D%22stylesheet%22%20href%3D%22https%3A//cdn.jsdelivr.net/npm/leaflet%401.6.0/dist/leaflet.css%22/%3E%0A%20%20%20%20%3Clink%20rel%3D%22stylesheet%22%20href%3D%22https%3A//maxcdn.bootstrapcdn.com/bootstrap/3.2.0/css/bootstrap.min.css%22/%3E%0A%20%20%20%20%3Clink%20rel%3D%22stylesheet%22%20href%3D%22https%3A//maxcdn.bootstrapcdn.com/bootstrap/3.2.0/css/bootstrap-theme.min.css%22/%3E%0A%20%20%20%20%3Clink%20rel%3D%22stylesheet%22%20href%3D%22https%3A//maxcdn.bootstrapcdn.com/font-awesome/4.6.3/css/font-awesome.min.css%22/%3E%0A%20%20%20%20%3Clink%20rel%3D%22stylesheet%22%20href%3D%22https%3A//cdnjs.cloudflare.com/ajax/libs/Leaflet.awesome-markers/2.0.2/leaflet.awesome-markers.css%22/%3E%0A%20%20%20%20%3Clink%20rel%3D%22stylesheet%22%20href%3D%22https%3A//cdn.jsdelivr.net/gh/python-visualization/folium/folium/templates/leaflet.awesome.rotate.min.css%22/%3E%0A%20%20%20%20%0A%20%20%20%20%20%20%20%20%20%20%20%20%3Cmeta%20name%3D%22viewport%22%20content%3D%22width%3Ddevice-width%2C%0A%20%20%20%20%20%20%20%20%20%20%20%20%20%20%20%20initial-scale%3D1.0%2C%20maximum-scale%3D1.0%2C%20user-scalable%3Dno%22%20/%3E%0A%20%20%20%20%20%20%20%20%20%20%20%20%3Cstyle%3E%0A%20%20%20%20%20%20%20%20%20%20%20%20%20%20%20%20%23map_f20b6eaf25dc447693888749892f82eb%20%7B%0A%20%20%20%20%20%20%20%20%20%20%20%20%20%20%20%20%20%20%20%20position%3A%20relative%3B%0A%20%20%20%20%20%20%20%20%20%20%20%20%20%20%20%20%20%20%20%20width%3A%20100.0%25%3B%0A%20%20%20%20%20%20%20%20%20%20%20%20%20%20%20%20%20%20%20%20height%3A%20100.0%25%3B%0A%20%20%20%20%20%20%20%20%20%20%20%20%20%20%20%20%20%20%20%20left%3A%200.0%25%3B%0A%20%20%20%20%20%20%20%20%20%20%20%20%20%20%20%20%20%20%20%20top%3A%200.0%25%3B%0A%20%20%20%20%20%20%20%20%20%20%20%20%20%20%20%20%7D%0A%20%20%20%20%20%20%20%20%20%20%20%20%3C/style%3E%0A%20%20%20%20%20%20%20%20%0A%3C/head%3E%0A%3Cbody%3E%20%20%20%20%0A%20%20%20%20%0A%20%20%20%20%20%20%20%20%20%20%20%20%3Cdiv%20class%3D%22folium-map%22%20id%3D%22map_f20b6eaf25dc447693888749892f82eb%22%20%3E%3C/div%3E%0A%20%20%20%20%20%20%20%20%0A%3C/body%3E%0A%3Cscript%3E%20%20%20%20%0A%20%20%20%20%0A%20%20%20%20%20%20%20%20%20%20%20%20var%20map_f20b6eaf25dc447693888749892f82eb%20%3D%20L.map%28%0A%20%20%20%20%20%20%20%20%20%20%20%20%20%20%20%20%22map_f20b6eaf25dc447693888749892f82eb%22%2C%0A%20%20%20%20%20%20%20%20%20%20%20%20%20%20%20%20%7B%0A%20%20%20%20%20%20%20%20%20%20%20%20%20%20%20%20%20%20%20%20center%3A%20%5B51.503324%2C%20-0.119543%5D%2C%0A%20%20%20%20%20%20%20%20%20%20%20%20%20%20%20%20%20%20%20%20crs%3A%20L.CRS.EPSG3857%2C%0A%20%20%20%20%20%20%20%20%20%20%20%20%20%20%20%20%20%20%20%20zoom%3A%2016%2C%0A%20%20%20%20%20%20%20%20%20%20%20%20%20%20%20%20%20%20%20%20zoomControl%3A%20true%2C%0A%20%20%20%20%20%20%20%20%20%20%20%20%20%20%20%20%20%20%20%20preferCanvas%3A%20false%2C%0A%20%20%20%20%20%20%20%20%20%20%20%20%20%20%20%20%7D%0A%20%20%20%20%20%20%20%20%20%20%20%20%29%3B%0A%0A%20%20%20%20%20%20%20%20%20%20%20%20%0A%0A%20%20%20%20%20%20%20%20%0A%20%20%20%20%0A%20%20%20%20%20%20%20%20%20%20%20%20var%20tile_layer_e05d7540209b4000865af04e8919931d%20%3D%20L.tileLayer%28%0A%20%20%20%20%20%20%20%20%20%20%20%20%20%20%20%20%22https%3A//%7Bs%7D.tile.openstreetmap.org/%7Bz%7D/%7Bx%7D/%7By%7D.png%22%2C%0A%20%20%20%20%20%20%20%20%20%20%20%20%20%20%20%20%7B%22attribution%22%3A%20%22Data%20by%20%5Cu0026copy%3B%20%5Cu003ca%20href%3D%5C%22http%3A//openstreetmap.org%5C%22%5Cu003eOpenStreetMap%5Cu003c/a%5Cu003e%2C%20under%20%5Cu003ca%20href%3D%5C%22http%3A//www.openstreetmap.org/copyright%5C%22%5Cu003eODbL%5Cu003c/a%5Cu003e.%22%2C%20%22detectRetina%22%3A%20false%2C%20%22maxNativeZoom%22%3A%2018%2C%20%22maxZoom%22%3A%2018%2C%20%22minZoom%22%3A%200%2C%20%22noWrap%22%3A%20false%2C%20%22opacity%22%3A%201%2C%20%22subdomains%22%3A%20%22abc%22%2C%20%22tms%22%3A%20false%7D%0A%20%20%20%20%20%20%20%20%20%20%20%20%29.addTo%28map_f20b6eaf25dc447693888749892f82eb%29%3B%0A%20%20%20%20%20%20%20%20%0A%3C/script%3E onload=\"this.contentDocument.open();this.contentDocument.write(    decodeURIComponent(this.getAttribute('data-html')));this.contentDocument.close();\" allowfullscreen webkitallowfullscreen mozallowfullscreen></iframe></div></div>"
      ],
      "text/plain": [
       "<folium.folium.Map at 0x24600cd0250>"
      ]
     },
     "execution_count": 26,
     "metadata": {},
     "output_type": "execute_result"
    }
   ],
   "source": [
    "Lambeth_map = folium.Map(location = [Lambeth[0], Lambeth[1]], zoom_start = 16)\n",
    "Lambeth_map"
   ]
  },
  {
   "cell_type": "markdown",
   "id": "7776b741",
   "metadata": {},
   "source": [
    "--------------------------------------------------------------------------------------------------------"
   ]
  },
  {
   "cell_type": "markdown",
   "id": "e2c64786",
   "metadata": {},
   "source": [
    "Sel dibawah berguna untuk melihat peta daerah Croydon"
   ]
  },
  {
   "cell_type": "code",
   "execution_count": 27,
   "id": "beec6a94",
   "metadata": {},
   "outputs": [
    {
     "data": {
      "text/html": [
       "<div style=\"width:100%;\"><div style=\"position:relative;width:100%;height:0;padding-bottom:60%;\"><span style=\"color:#565656\">Make this Notebook Trusted to load map: File -> Trust Notebook</span><iframe src=\"about:blank\" style=\"position:absolute;width:100%;height:100%;left:0;top:0;border:none !important;\" data-html=%3C%21DOCTYPE%20html%3E%0A%3Chead%3E%20%20%20%20%0A%20%20%20%20%3Cmeta%20http-equiv%3D%22content-type%22%20content%3D%22text/html%3B%20charset%3DUTF-8%22%20/%3E%0A%20%20%20%20%0A%20%20%20%20%20%20%20%20%3Cscript%3E%0A%20%20%20%20%20%20%20%20%20%20%20%20L_NO_TOUCH%20%3D%20false%3B%0A%20%20%20%20%20%20%20%20%20%20%20%20L_DISABLE_3D%20%3D%20false%3B%0A%20%20%20%20%20%20%20%20%3C/script%3E%0A%20%20%20%20%0A%20%20%20%20%3Cstyle%3Ehtml%2C%20body%20%7Bwidth%3A%20100%25%3Bheight%3A%20100%25%3Bmargin%3A%200%3Bpadding%3A%200%3B%7D%3C/style%3E%0A%20%20%20%20%3Cstyle%3E%23map%20%7Bposition%3Aabsolute%3Btop%3A0%3Bbottom%3A0%3Bright%3A0%3Bleft%3A0%3B%7D%3C/style%3E%0A%20%20%20%20%3Cscript%20src%3D%22https%3A//cdn.jsdelivr.net/npm/leaflet%401.6.0/dist/leaflet.js%22%3E%3C/script%3E%0A%20%20%20%20%3Cscript%20src%3D%22https%3A//code.jquery.com/jquery-1.12.4.min.js%22%3E%3C/script%3E%0A%20%20%20%20%3Cscript%20src%3D%22https%3A//maxcdn.bootstrapcdn.com/bootstrap/3.2.0/js/bootstrap.min.js%22%3E%3C/script%3E%0A%20%20%20%20%3Cscript%20src%3D%22https%3A//cdnjs.cloudflare.com/ajax/libs/Leaflet.awesome-markers/2.0.2/leaflet.awesome-markers.js%22%3E%3C/script%3E%0A%20%20%20%20%3Clink%20rel%3D%22stylesheet%22%20href%3D%22https%3A//cdn.jsdelivr.net/npm/leaflet%401.6.0/dist/leaflet.css%22/%3E%0A%20%20%20%20%3Clink%20rel%3D%22stylesheet%22%20href%3D%22https%3A//maxcdn.bootstrapcdn.com/bootstrap/3.2.0/css/bootstrap.min.css%22/%3E%0A%20%20%20%20%3Clink%20rel%3D%22stylesheet%22%20href%3D%22https%3A//maxcdn.bootstrapcdn.com/bootstrap/3.2.0/css/bootstrap-theme.min.css%22/%3E%0A%20%20%20%20%3Clink%20rel%3D%22stylesheet%22%20href%3D%22https%3A//maxcdn.bootstrapcdn.com/font-awesome/4.6.3/css/font-awesome.min.css%22/%3E%0A%20%20%20%20%3Clink%20rel%3D%22stylesheet%22%20href%3D%22https%3A//cdnjs.cloudflare.com/ajax/libs/Leaflet.awesome-markers/2.0.2/leaflet.awesome-markers.css%22/%3E%0A%20%20%20%20%3Clink%20rel%3D%22stylesheet%22%20href%3D%22https%3A//cdn.jsdelivr.net/gh/python-visualization/folium/folium/templates/leaflet.awesome.rotate.min.css%22/%3E%0A%20%20%20%20%0A%20%20%20%20%20%20%20%20%20%20%20%20%3Cmeta%20name%3D%22viewport%22%20content%3D%22width%3Ddevice-width%2C%0A%20%20%20%20%20%20%20%20%20%20%20%20%20%20%20%20initial-scale%3D1.0%2C%20maximum-scale%3D1.0%2C%20user-scalable%3Dno%22%20/%3E%0A%20%20%20%20%20%20%20%20%20%20%20%20%3Cstyle%3E%0A%20%20%20%20%20%20%20%20%20%20%20%20%20%20%20%20%23map_372b163b261d4fdfafa2e181512e344f%20%7B%0A%20%20%20%20%20%20%20%20%20%20%20%20%20%20%20%20%20%20%20%20position%3A%20relative%3B%0A%20%20%20%20%20%20%20%20%20%20%20%20%20%20%20%20%20%20%20%20width%3A%20100.0%25%3B%0A%20%20%20%20%20%20%20%20%20%20%20%20%20%20%20%20%20%20%20%20height%3A%20100.0%25%3B%0A%20%20%20%20%20%20%20%20%20%20%20%20%20%20%20%20%20%20%20%20left%3A%200.0%25%3B%0A%20%20%20%20%20%20%20%20%20%20%20%20%20%20%20%20%20%20%20%20top%3A%200.0%25%3B%0A%20%20%20%20%20%20%20%20%20%20%20%20%20%20%20%20%7D%0A%20%20%20%20%20%20%20%20%20%20%20%20%3C/style%3E%0A%20%20%20%20%20%20%20%20%0A%3C/head%3E%0A%3Cbody%3E%20%20%20%20%0A%20%20%20%20%0A%20%20%20%20%20%20%20%20%20%20%20%20%3Cdiv%20class%3D%22folium-map%22%20id%3D%22map_372b163b261d4fdfafa2e181512e344f%22%20%3E%3C/div%3E%0A%20%20%20%20%20%20%20%20%0A%3C/body%3E%0A%3Cscript%3E%20%20%20%20%0A%20%20%20%20%0A%20%20%20%20%20%20%20%20%20%20%20%20var%20map_372b163b261d4fdfafa2e181512e344f%20%3D%20L.map%28%0A%20%20%20%20%20%20%20%20%20%20%20%20%20%20%20%20%22map_372b163b261d4fdfafa2e181512e344f%22%2C%0A%20%20%20%20%20%20%20%20%20%20%20%20%20%20%20%20%7B%0A%20%20%20%20%20%20%20%20%20%20%20%20%20%20%20%20%20%20%20%20center%3A%20%5B51.376165%2C%20-0.098234%5D%2C%0A%20%20%20%20%20%20%20%20%20%20%20%20%20%20%20%20%20%20%20%20crs%3A%20L.CRS.EPSG3857%2C%0A%20%20%20%20%20%20%20%20%20%20%20%20%20%20%20%20%20%20%20%20zoom%3A%2016%2C%0A%20%20%20%20%20%20%20%20%20%20%20%20%20%20%20%20%20%20%20%20zoomControl%3A%20true%2C%0A%20%20%20%20%20%20%20%20%20%20%20%20%20%20%20%20%20%20%20%20preferCanvas%3A%20false%2C%0A%20%20%20%20%20%20%20%20%20%20%20%20%20%20%20%20%7D%0A%20%20%20%20%20%20%20%20%20%20%20%20%29%3B%0A%0A%20%20%20%20%20%20%20%20%20%20%20%20%0A%0A%20%20%20%20%20%20%20%20%0A%20%20%20%20%0A%20%20%20%20%20%20%20%20%20%20%20%20var%20tile_layer_0683e561895743d3bf453be90545195b%20%3D%20L.tileLayer%28%0A%20%20%20%20%20%20%20%20%20%20%20%20%20%20%20%20%22https%3A//%7Bs%7D.tile.openstreetmap.org/%7Bz%7D/%7Bx%7D/%7By%7D.png%22%2C%0A%20%20%20%20%20%20%20%20%20%20%20%20%20%20%20%20%7B%22attribution%22%3A%20%22Data%20by%20%5Cu0026copy%3B%20%5Cu003ca%20href%3D%5C%22http%3A//openstreetmap.org%5C%22%5Cu003eOpenStreetMap%5Cu003c/a%5Cu003e%2C%20under%20%5Cu003ca%20href%3D%5C%22http%3A//www.openstreetmap.org/copyright%5C%22%5Cu003eODbL%5Cu003c/a%5Cu003e.%22%2C%20%22detectRetina%22%3A%20false%2C%20%22maxNativeZoom%22%3A%2018%2C%20%22maxZoom%22%3A%2018%2C%20%22minZoom%22%3A%200%2C%20%22noWrap%22%3A%20false%2C%20%22opacity%22%3A%201%2C%20%22subdomains%22%3A%20%22abc%22%2C%20%22tms%22%3A%20false%7D%0A%20%20%20%20%20%20%20%20%20%20%20%20%29.addTo%28map_372b163b261d4fdfafa2e181512e344f%29%3B%0A%20%20%20%20%20%20%20%20%0A%3C/script%3E onload=\"this.contentDocument.open();this.contentDocument.write(    decodeURIComponent(this.getAttribute('data-html')));this.contentDocument.close();\" allowfullscreen webkitallowfullscreen mozallowfullscreen></iframe></div></div>"
      ],
      "text/plain": [
       "<folium.folium.Map at 0x2460080a970>"
      ]
     },
     "execution_count": 27,
     "metadata": {},
     "output_type": "execute_result"
    }
   ],
   "source": [
    "Croydon_map = folium.Map(location = [Croydon[0], Croydon[1]], zoom_start = 16)\n",
    "Croydon_map"
   ]
  },
  {
   "cell_type": "markdown",
   "id": "afaea726",
   "metadata": {},
   "source": [
    "--------------------------------------------------------------------------------------------------------"
   ]
  },
  {
   "cell_type": "markdown",
   "id": "898955e4",
   "metadata": {},
   "source": [
    "Sel dibawah berguna untuk melihat peta daerah Southwark"
   ]
  },
  {
   "cell_type": "code",
   "execution_count": 28,
   "id": "01e3e806",
   "metadata": {},
   "outputs": [
    {
     "data": {
      "text/html": [
       "<div style=\"width:100%;\"><div style=\"position:relative;width:100%;height:0;padding-bottom:60%;\"><span style=\"color:#565656\">Make this Notebook Trusted to load map: File -> Trust Notebook</span><iframe src=\"about:blank\" style=\"position:absolute;width:100%;height:100%;left:0;top:0;border:none !important;\" data-html=%3C%21DOCTYPE%20html%3E%0A%3Chead%3E%20%20%20%20%0A%20%20%20%20%3Cmeta%20http-equiv%3D%22content-type%22%20content%3D%22text/html%3B%20charset%3DUTF-8%22%20/%3E%0A%20%20%20%20%0A%20%20%20%20%20%20%20%20%3Cscript%3E%0A%20%20%20%20%20%20%20%20%20%20%20%20L_NO_TOUCH%20%3D%20false%3B%0A%20%20%20%20%20%20%20%20%20%20%20%20L_DISABLE_3D%20%3D%20false%3B%0A%20%20%20%20%20%20%20%20%3C/script%3E%0A%20%20%20%20%0A%20%20%20%20%3Cstyle%3Ehtml%2C%20body%20%7Bwidth%3A%20100%25%3Bheight%3A%20100%25%3Bmargin%3A%200%3Bpadding%3A%200%3B%7D%3C/style%3E%0A%20%20%20%20%3Cstyle%3E%23map%20%7Bposition%3Aabsolute%3Btop%3A0%3Bbottom%3A0%3Bright%3A0%3Bleft%3A0%3B%7D%3C/style%3E%0A%20%20%20%20%3Cscript%20src%3D%22https%3A//cdn.jsdelivr.net/npm/leaflet%401.6.0/dist/leaflet.js%22%3E%3C/script%3E%0A%20%20%20%20%3Cscript%20src%3D%22https%3A//code.jquery.com/jquery-1.12.4.min.js%22%3E%3C/script%3E%0A%20%20%20%20%3Cscript%20src%3D%22https%3A//maxcdn.bootstrapcdn.com/bootstrap/3.2.0/js/bootstrap.min.js%22%3E%3C/script%3E%0A%20%20%20%20%3Cscript%20src%3D%22https%3A//cdnjs.cloudflare.com/ajax/libs/Leaflet.awesome-markers/2.0.2/leaflet.awesome-markers.js%22%3E%3C/script%3E%0A%20%20%20%20%3Clink%20rel%3D%22stylesheet%22%20href%3D%22https%3A//cdn.jsdelivr.net/npm/leaflet%401.6.0/dist/leaflet.css%22/%3E%0A%20%20%20%20%3Clink%20rel%3D%22stylesheet%22%20href%3D%22https%3A//maxcdn.bootstrapcdn.com/bootstrap/3.2.0/css/bootstrap.min.css%22/%3E%0A%20%20%20%20%3Clink%20rel%3D%22stylesheet%22%20href%3D%22https%3A//maxcdn.bootstrapcdn.com/bootstrap/3.2.0/css/bootstrap-theme.min.css%22/%3E%0A%20%20%20%20%3Clink%20rel%3D%22stylesheet%22%20href%3D%22https%3A//maxcdn.bootstrapcdn.com/font-awesome/4.6.3/css/font-awesome.min.css%22/%3E%0A%20%20%20%20%3Clink%20rel%3D%22stylesheet%22%20href%3D%22https%3A//cdnjs.cloudflare.com/ajax/libs/Leaflet.awesome-markers/2.0.2/leaflet.awesome-markers.css%22/%3E%0A%20%20%20%20%3Clink%20rel%3D%22stylesheet%22%20href%3D%22https%3A//cdn.jsdelivr.net/gh/python-visualization/folium/folium/templates/leaflet.awesome.rotate.min.css%22/%3E%0A%20%20%20%20%0A%20%20%20%20%20%20%20%20%20%20%20%20%3Cmeta%20name%3D%22viewport%22%20content%3D%22width%3Ddevice-width%2C%0A%20%20%20%20%20%20%20%20%20%20%20%20%20%20%20%20initial-scale%3D1.0%2C%20maximum-scale%3D1.0%2C%20user-scalable%3Dno%22%20/%3E%0A%20%20%20%20%20%20%20%20%20%20%20%20%3Cstyle%3E%0A%20%20%20%20%20%20%20%20%20%20%20%20%20%20%20%20%23map_ce3a3932e85a4d4fae522fbdbde46b5a%20%7B%0A%20%20%20%20%20%20%20%20%20%20%20%20%20%20%20%20%20%20%20%20position%3A%20relative%3B%0A%20%20%20%20%20%20%20%20%20%20%20%20%20%20%20%20%20%20%20%20width%3A%20100.0%25%3B%0A%20%20%20%20%20%20%20%20%20%20%20%20%20%20%20%20%20%20%20%20height%3A%20100.0%25%3B%0A%20%20%20%20%20%20%20%20%20%20%20%20%20%20%20%20%20%20%20%20left%3A%200.0%25%3B%0A%20%20%20%20%20%20%20%20%20%20%20%20%20%20%20%20%20%20%20%20top%3A%200.0%25%3B%0A%20%20%20%20%20%20%20%20%20%20%20%20%20%20%20%20%7D%0A%20%20%20%20%20%20%20%20%20%20%20%20%3C/style%3E%0A%20%20%20%20%20%20%20%20%0A%3C/head%3E%0A%3Cbody%3E%20%20%20%20%0A%20%20%20%20%0A%20%20%20%20%20%20%20%20%20%20%20%20%3Cdiv%20class%3D%22folium-map%22%20id%3D%22map_ce3a3932e85a4d4fae522fbdbde46b5a%22%20%3E%3C/div%3E%0A%20%20%20%20%20%20%20%20%0A%3C/body%3E%0A%3Cscript%3E%20%20%20%20%0A%20%20%20%20%0A%20%20%20%20%20%20%20%20%20%20%20%20var%20map_ce3a3932e85a4d4fae522fbdbde46b5a%20%3D%20L.map%28%0A%20%20%20%20%20%20%20%20%20%20%20%20%20%20%20%20%22map_ce3a3932e85a4d4fae522fbdbde46b5a%22%2C%0A%20%20%20%20%20%20%20%20%20%20%20%20%20%20%20%20%7B%0A%20%20%20%20%20%20%20%20%20%20%20%20%20%20%20%20%20%20%20%20center%3A%20%5B51.45%2C%20-0.0833%5D%2C%0A%20%20%20%20%20%20%20%20%20%20%20%20%20%20%20%20%20%20%20%20crs%3A%20L.CRS.EPSG3857%2C%0A%20%20%20%20%20%20%20%20%20%20%20%20%20%20%20%20%20%20%20%20zoom%3A%2016%2C%0A%20%20%20%20%20%20%20%20%20%20%20%20%20%20%20%20%20%20%20%20zoomControl%3A%20true%2C%0A%20%20%20%20%20%20%20%20%20%20%20%20%20%20%20%20%20%20%20%20preferCanvas%3A%20false%2C%0A%20%20%20%20%20%20%20%20%20%20%20%20%20%20%20%20%7D%0A%20%20%20%20%20%20%20%20%20%20%20%20%29%3B%0A%0A%20%20%20%20%20%20%20%20%20%20%20%20%0A%0A%20%20%20%20%20%20%20%20%0A%20%20%20%20%0A%20%20%20%20%20%20%20%20%20%20%20%20var%20tile_layer_e7bf7bebcf404387a105b1b17de21c5f%20%3D%20L.tileLayer%28%0A%20%20%20%20%20%20%20%20%20%20%20%20%20%20%20%20%22https%3A//%7Bs%7D.tile.openstreetmap.org/%7Bz%7D/%7Bx%7D/%7By%7D.png%22%2C%0A%20%20%20%20%20%20%20%20%20%20%20%20%20%20%20%20%7B%22attribution%22%3A%20%22Data%20by%20%5Cu0026copy%3B%20%5Cu003ca%20href%3D%5C%22http%3A//openstreetmap.org%5C%22%5Cu003eOpenStreetMap%5Cu003c/a%5Cu003e%2C%20under%20%5Cu003ca%20href%3D%5C%22http%3A//www.openstreetmap.org/copyright%5C%22%5Cu003eODbL%5Cu003c/a%5Cu003e.%22%2C%20%22detectRetina%22%3A%20false%2C%20%22maxNativeZoom%22%3A%2018%2C%20%22maxZoom%22%3A%2018%2C%20%22minZoom%22%3A%200%2C%20%22noWrap%22%3A%20false%2C%20%22opacity%22%3A%201%2C%20%22subdomains%22%3A%20%22abc%22%2C%20%22tms%22%3A%20false%7D%0A%20%20%20%20%20%20%20%20%20%20%20%20%29.addTo%28map_ce3a3932e85a4d4fae522fbdbde46b5a%29%3B%0A%20%20%20%20%20%20%20%20%0A%3C/script%3E onload=\"this.contentDocument.open();this.contentDocument.write(    decodeURIComponent(this.getAttribute('data-html')));this.contentDocument.close();\" allowfullscreen webkitallowfullscreen mozallowfullscreen></iframe></div></div>"
      ],
      "text/plain": [
       "<folium.folium.Map at 0x24600902a60>"
      ]
     },
     "execution_count": 28,
     "metadata": {},
     "output_type": "execute_result"
    }
   ],
   "source": [
    "Southwark_map = folium.Map(location = [Southwark[0], Southwark[1]], zoom_start = 16)\n",
    "Southwark_map"
   ]
  },
  {
   "cell_type": "markdown",
   "id": "f771e41d",
   "metadata": {},
   "source": [
    "--------------------------------------------------------------------------------------------------------"
   ]
  },
  {
   "cell_type": "markdown",
   "id": "6ae00749",
   "metadata": {},
   "source": [
    "Sel dibawah berguna untuk melihat peta daerah Ealing"
   ]
  },
  {
   "cell_type": "code",
   "execution_count": 29,
   "id": "e14188fa",
   "metadata": {},
   "outputs": [
    {
     "data": {
      "text/html": [
       "<div style=\"width:100%;\"><div style=\"position:relative;width:100%;height:0;padding-bottom:60%;\"><span style=\"color:#565656\">Make this Notebook Trusted to load map: File -> Trust Notebook</span><iframe src=\"about:blank\" style=\"position:absolute;width:100%;height:100%;left:0;top:0;border:none !important;\" data-html=%3C%21DOCTYPE%20html%3E%0A%3Chead%3E%20%20%20%20%0A%20%20%20%20%3Cmeta%20http-equiv%3D%22content-type%22%20content%3D%22text/html%3B%20charset%3DUTF-8%22%20/%3E%0A%20%20%20%20%0A%20%20%20%20%20%20%20%20%3Cscript%3E%0A%20%20%20%20%20%20%20%20%20%20%20%20L_NO_TOUCH%20%3D%20false%3B%0A%20%20%20%20%20%20%20%20%20%20%20%20L_DISABLE_3D%20%3D%20false%3B%0A%20%20%20%20%20%20%20%20%3C/script%3E%0A%20%20%20%20%0A%20%20%20%20%3Cstyle%3Ehtml%2C%20body%20%7Bwidth%3A%20100%25%3Bheight%3A%20100%25%3Bmargin%3A%200%3Bpadding%3A%200%3B%7D%3C/style%3E%0A%20%20%20%20%3Cstyle%3E%23map%20%7Bposition%3Aabsolute%3Btop%3A0%3Bbottom%3A0%3Bright%3A0%3Bleft%3A0%3B%7D%3C/style%3E%0A%20%20%20%20%3Cscript%20src%3D%22https%3A//cdn.jsdelivr.net/npm/leaflet%401.6.0/dist/leaflet.js%22%3E%3C/script%3E%0A%20%20%20%20%3Cscript%20src%3D%22https%3A//code.jquery.com/jquery-1.12.4.min.js%22%3E%3C/script%3E%0A%20%20%20%20%3Cscript%20src%3D%22https%3A//maxcdn.bootstrapcdn.com/bootstrap/3.2.0/js/bootstrap.min.js%22%3E%3C/script%3E%0A%20%20%20%20%3Cscript%20src%3D%22https%3A//cdnjs.cloudflare.com/ajax/libs/Leaflet.awesome-markers/2.0.2/leaflet.awesome-markers.js%22%3E%3C/script%3E%0A%20%20%20%20%3Clink%20rel%3D%22stylesheet%22%20href%3D%22https%3A//cdn.jsdelivr.net/npm/leaflet%401.6.0/dist/leaflet.css%22/%3E%0A%20%20%20%20%3Clink%20rel%3D%22stylesheet%22%20href%3D%22https%3A//maxcdn.bootstrapcdn.com/bootstrap/3.2.0/css/bootstrap.min.css%22/%3E%0A%20%20%20%20%3Clink%20rel%3D%22stylesheet%22%20href%3D%22https%3A//maxcdn.bootstrapcdn.com/bootstrap/3.2.0/css/bootstrap-theme.min.css%22/%3E%0A%20%20%20%20%3Clink%20rel%3D%22stylesheet%22%20href%3D%22https%3A//maxcdn.bootstrapcdn.com/font-awesome/4.6.3/css/font-awesome.min.css%22/%3E%0A%20%20%20%20%3Clink%20rel%3D%22stylesheet%22%20href%3D%22https%3A//cdnjs.cloudflare.com/ajax/libs/Leaflet.awesome-markers/2.0.2/leaflet.awesome-markers.css%22/%3E%0A%20%20%20%20%3Clink%20rel%3D%22stylesheet%22%20href%3D%22https%3A//cdn.jsdelivr.net/gh/python-visualization/folium/folium/templates/leaflet.awesome.rotate.min.css%22/%3E%0A%20%20%20%20%0A%20%20%20%20%20%20%20%20%20%20%20%20%3Cmeta%20name%3D%22viewport%22%20content%3D%22width%3Ddevice-width%2C%0A%20%20%20%20%20%20%20%20%20%20%20%20%20%20%20%20initial-scale%3D1.0%2C%20maximum-scale%3D1.0%2C%20user-scalable%3Dno%22%20/%3E%0A%20%20%20%20%20%20%20%20%20%20%20%20%3Cstyle%3E%0A%20%20%20%20%20%20%20%20%20%20%20%20%20%20%20%20%23map_8a43196ad41d463dbaf203b11d1e8e89%20%7B%0A%20%20%20%20%20%20%20%20%20%20%20%20%20%20%20%20%20%20%20%20position%3A%20relative%3B%0A%20%20%20%20%20%20%20%20%20%20%20%20%20%20%20%20%20%20%20%20width%3A%20100.0%25%3B%0A%20%20%20%20%20%20%20%20%20%20%20%20%20%20%20%20%20%20%20%20height%3A%20100.0%25%3B%0A%20%20%20%20%20%20%20%20%20%20%20%20%20%20%20%20%20%20%20%20left%3A%200.0%25%3B%0A%20%20%20%20%20%20%20%20%20%20%20%20%20%20%20%20%20%20%20%20top%3A%200.0%25%3B%0A%20%20%20%20%20%20%20%20%20%20%20%20%20%20%20%20%7D%0A%20%20%20%20%20%20%20%20%20%20%20%20%3C/style%3E%0A%20%20%20%20%20%20%20%20%0A%3C/head%3E%0A%3Cbody%3E%20%20%20%20%0A%20%20%20%20%0A%20%20%20%20%20%20%20%20%20%20%20%20%3Cdiv%20class%3D%22folium-map%22%20id%3D%22map_8a43196ad41d463dbaf203b11d1e8e89%22%20%3E%3C/div%3E%0A%20%20%20%20%20%20%20%20%0A%3C/body%3E%0A%3Cscript%3E%20%20%20%20%0A%20%20%20%20%0A%20%20%20%20%20%20%20%20%20%20%20%20var%20map_8a43196ad41d463dbaf203b11d1e8e89%20%3D%20L.map%28%0A%20%20%20%20%20%20%20%20%20%20%20%20%20%20%20%20%22map_8a43196ad41d463dbaf203b11d1e8e89%22%2C%0A%20%20%20%20%20%20%20%20%20%20%20%20%20%20%20%20%7B%0A%20%20%20%20%20%20%20%20%20%20%20%20%20%20%20%20%20%20%20%20center%3A%20%5B51.5%2C%20-0.3333%5D%2C%0A%20%20%20%20%20%20%20%20%20%20%20%20%20%20%20%20%20%20%20%20crs%3A%20L.CRS.EPSG3857%2C%0A%20%20%20%20%20%20%20%20%20%20%20%20%20%20%20%20%20%20%20%20zoom%3A%2016%2C%0A%20%20%20%20%20%20%20%20%20%20%20%20%20%20%20%20%20%20%20%20zoomControl%3A%20true%2C%0A%20%20%20%20%20%20%20%20%20%20%20%20%20%20%20%20%20%20%20%20preferCanvas%3A%20false%2C%0A%20%20%20%20%20%20%20%20%20%20%20%20%20%20%20%20%7D%0A%20%20%20%20%20%20%20%20%20%20%20%20%29%3B%0A%0A%20%20%20%20%20%20%20%20%20%20%20%20%0A%0A%20%20%20%20%20%20%20%20%0A%20%20%20%20%0A%20%20%20%20%20%20%20%20%20%20%20%20var%20tile_layer_5a0688c1b0c04827a7661f46cad23e92%20%3D%20L.tileLayer%28%0A%20%20%20%20%20%20%20%20%20%20%20%20%20%20%20%20%22https%3A//%7Bs%7D.tile.openstreetmap.org/%7Bz%7D/%7Bx%7D/%7By%7D.png%22%2C%0A%20%20%20%20%20%20%20%20%20%20%20%20%20%20%20%20%7B%22attribution%22%3A%20%22Data%20by%20%5Cu0026copy%3B%20%5Cu003ca%20href%3D%5C%22http%3A//openstreetmap.org%5C%22%5Cu003eOpenStreetMap%5Cu003c/a%5Cu003e%2C%20under%20%5Cu003ca%20href%3D%5C%22http%3A//www.openstreetmap.org/copyright%5C%22%5Cu003eODbL%5Cu003c/a%5Cu003e.%22%2C%20%22detectRetina%22%3A%20false%2C%20%22maxNativeZoom%22%3A%2018%2C%20%22maxZoom%22%3A%2018%2C%20%22minZoom%22%3A%200%2C%20%22noWrap%22%3A%20false%2C%20%22opacity%22%3A%201%2C%20%22subdomains%22%3A%20%22abc%22%2C%20%22tms%22%3A%20false%7D%0A%20%20%20%20%20%20%20%20%20%20%20%20%29.addTo%28map_8a43196ad41d463dbaf203b11d1e8e89%29%3B%0A%20%20%20%20%20%20%20%20%0A%3C/script%3E onload=\"this.contentDocument.open();this.contentDocument.write(    decodeURIComponent(this.getAttribute('data-html')));this.contentDocument.close();\" allowfullscreen webkitallowfullscreen mozallowfullscreen></iframe></div></div>"
      ],
      "text/plain": [
       "<folium.folium.Map at 0x2460080a490>"
      ]
     },
     "execution_count": 29,
     "metadata": {},
     "output_type": "execute_result"
    }
   ],
   "source": [
    "Ealing_map = folium.Map(location = [Ealing[0], Ealing[1]], zoom_start = 16)\n",
    "Ealing_map"
   ]
  },
  {
   "cell_type": "markdown",
   "id": "b2a366ce",
   "metadata": {},
   "source": [
    "=================================================================================================================="
   ]
  },
  {
   "cell_type": "markdown",
   "id": "8b74d657",
   "metadata": {},
   "source": [
    "# Kesimpulan :\n",
    "\n",
    "Terdapat beberapa pertanyaan pada tugas ini :\n",
    "- Bagaimana kenaikan angka kriminal di kota london dari tahun 2008 - 2016\n",
    "- Dimana wilayah London dengan angka kriminal tertinggi\n",
    "- Apa jenis kriminal yang paling sering terjadi di kota London"
   ]
  },
  {
   "cell_type": "markdown",
   "id": "421be8e4",
   "metadata": {},
   "source": [
    "Jawab :\n",
    "1. Angka Kriminal di kota London mengalami penurunan pada tahun 2008 - 2013, setelah itu yaitu tahun 2013 - 2016 angka kriminal menggalami kenaikan\n",
    "2. Empat wilayah Kota London yang memiliki angka kriminal tertinggi adalah Lambeth, Croydon, Southwark dan Ealing. Pada wilayah tersebut rata-rata pada tahun 2008 - 2013 angka kriminal mengalami penurunan, dan pada tahun-tahun selanjutnya mengalami kenaikan\n",
    "3. Jenis Kriminal yang paling sering terjadi adalah kasus pencurian dan perampokan lalu diikuti dengan Kekerasan terhadap orang dan kerusakan vandalisme"
   ]
  },
  {
   "cell_type": "code",
   "execution_count": null,
   "id": "52a6e7ed",
   "metadata": {},
   "outputs": [],
   "source": []
  }
 ],
 "metadata": {
  "kernelspec": {
   "display_name": "Python 3 (ipykernel)",
   "language": "python",
   "name": "python3"
  },
  "language_info": {
   "codemirror_mode": {
    "name": "ipython",
    "version": 3
   },
   "file_extension": ".py",
   "mimetype": "text/x-python",
   "name": "python",
   "nbconvert_exporter": "python",
   "pygments_lexer": "ipython3",
   "version": "3.8.8"
  }
 },
 "nbformat": 4,
 "nbformat_minor": 5
}
