{
 "cells": [
  {
   "cell_type": "code",
   "execution_count": 2,
   "id": "37c04647",
   "metadata": {},
   "outputs": [],
   "source": [
    "import pandas as pd\n",
    "import numpy as np\n",
    "import scipy.stats"
   ]
  },
  {
   "cell_type": "code",
   "execution_count": 3,
   "id": "0de13af4",
   "metadata": {},
   "outputs": [
    {
     "data": {
      "text/html": [
       "<div>\n",
       "<style scoped>\n",
       "    .dataframe tbody tr th:only-of-type {\n",
       "        vertical-align: middle;\n",
       "    }\n",
       "\n",
       "    .dataframe tbody tr th {\n",
       "        vertical-align: top;\n",
       "    }\n",
       "\n",
       "    .dataframe thead th {\n",
       "        text-align: right;\n",
       "    }\n",
       "</style>\n",
       "<table border=\"1\" class=\"dataframe\">\n",
       "  <thead>\n",
       "    <tr style=\"text-align: right;\">\n",
       "      <th></th>\n",
       "      <th>Unnamed: 0</th>\n",
       "      <th>BOROUGH</th>\n",
       "      <th>NEIGHBORHOOD</th>\n",
       "      <th>BUILDING CLASS CATEGORY</th>\n",
       "      <th>TAX CLASS AT PRESENT</th>\n",
       "      <th>BLOCK</th>\n",
       "      <th>LOT</th>\n",
       "      <th>EASE-MENT</th>\n",
       "      <th>BUILDING CLASS AT PRESENT</th>\n",
       "      <th>ADDRESS</th>\n",
       "      <th>...</th>\n",
       "      <th>RESIDENTIAL UNITS</th>\n",
       "      <th>COMMERCIAL UNITS</th>\n",
       "      <th>TOTAL UNITS</th>\n",
       "      <th>LAND SQUARE FEET</th>\n",
       "      <th>GROSS SQUARE FEET</th>\n",
       "      <th>YEAR BUILT</th>\n",
       "      <th>TAX CLASS AT TIME OF SALE</th>\n",
       "      <th>BUILDING CLASS AT TIME OF SALE</th>\n",
       "      <th>SALE PRICE</th>\n",
       "      <th>SALE DATE</th>\n",
       "    </tr>\n",
       "  </thead>\n",
       "  <tbody>\n",
       "    <tr>\n",
       "      <th>0</th>\n",
       "      <td>4</td>\n",
       "      <td>1</td>\n",
       "      <td>ALPHABET CITY</td>\n",
       "      <td>07 RENTALS - WALKUP APARTMENTS</td>\n",
       "      <td>2A</td>\n",
       "      <td>392</td>\n",
       "      <td>6</td>\n",
       "      <td></td>\n",
       "      <td>C2</td>\n",
       "      <td>153 AVENUE B</td>\n",
       "      <td>...</td>\n",
       "      <td>5</td>\n",
       "      <td>0</td>\n",
       "      <td>5</td>\n",
       "      <td>1633</td>\n",
       "      <td>6440</td>\n",
       "      <td>1900</td>\n",
       "      <td>2</td>\n",
       "      <td>C2</td>\n",
       "      <td>6625000</td>\n",
       "      <td>2017-07-19 00:00:00</td>\n",
       "    </tr>\n",
       "    <tr>\n",
       "      <th>1</th>\n",
       "      <td>5</td>\n",
       "      <td>1</td>\n",
       "      <td>ALPHABET CITY</td>\n",
       "      <td>07 RENTALS - WALKUP APARTMENTS</td>\n",
       "      <td>2</td>\n",
       "      <td>399</td>\n",
       "      <td>26</td>\n",
       "      <td></td>\n",
       "      <td>C7</td>\n",
       "      <td>234 EAST 4TH   STREET</td>\n",
       "      <td>...</td>\n",
       "      <td>28</td>\n",
       "      <td>3</td>\n",
       "      <td>31</td>\n",
       "      <td>4616</td>\n",
       "      <td>18690</td>\n",
       "      <td>1900</td>\n",
       "      <td>2</td>\n",
       "      <td>C7</td>\n",
       "      <td>-</td>\n",
       "      <td>2016-12-14 00:00:00</td>\n",
       "    </tr>\n",
       "    <tr>\n",
       "      <th>2</th>\n",
       "      <td>6</td>\n",
       "      <td>1</td>\n",
       "      <td>ALPHABET CITY</td>\n",
       "      <td>07 RENTALS - WALKUP APARTMENTS</td>\n",
       "      <td>2</td>\n",
       "      <td>399</td>\n",
       "      <td>39</td>\n",
       "      <td></td>\n",
       "      <td>C7</td>\n",
       "      <td>197 EAST 3RD   STREET</td>\n",
       "      <td>...</td>\n",
       "      <td>16</td>\n",
       "      <td>1</td>\n",
       "      <td>17</td>\n",
       "      <td>2212</td>\n",
       "      <td>7803</td>\n",
       "      <td>1900</td>\n",
       "      <td>2</td>\n",
       "      <td>C7</td>\n",
       "      <td>-</td>\n",
       "      <td>2016-12-09 00:00:00</td>\n",
       "    </tr>\n",
       "    <tr>\n",
       "      <th>3</th>\n",
       "      <td>7</td>\n",
       "      <td>1</td>\n",
       "      <td>ALPHABET CITY</td>\n",
       "      <td>07 RENTALS - WALKUP APARTMENTS</td>\n",
       "      <td>2B</td>\n",
       "      <td>402</td>\n",
       "      <td>21</td>\n",
       "      <td></td>\n",
       "      <td>C4</td>\n",
       "      <td>154 EAST 7TH STREET</td>\n",
       "      <td>...</td>\n",
       "      <td>10</td>\n",
       "      <td>0</td>\n",
       "      <td>10</td>\n",
       "      <td>2272</td>\n",
       "      <td>6794</td>\n",
       "      <td>1913</td>\n",
       "      <td>2</td>\n",
       "      <td>C4</td>\n",
       "      <td>3936272</td>\n",
       "      <td>2016-09-23 00:00:00</td>\n",
       "    </tr>\n",
       "    <tr>\n",
       "      <th>4</th>\n",
       "      <td>8</td>\n",
       "      <td>1</td>\n",
       "      <td>ALPHABET CITY</td>\n",
       "      <td>07 RENTALS - WALKUP APARTMENTS</td>\n",
       "      <td>2A</td>\n",
       "      <td>404</td>\n",
       "      <td>55</td>\n",
       "      <td></td>\n",
       "      <td>C2</td>\n",
       "      <td>301 EAST 10TH   STREET</td>\n",
       "      <td>...</td>\n",
       "      <td>6</td>\n",
       "      <td>0</td>\n",
       "      <td>6</td>\n",
       "      <td>2369</td>\n",
       "      <td>4615</td>\n",
       "      <td>1900</td>\n",
       "      <td>2</td>\n",
       "      <td>C2</td>\n",
       "      <td>8000000</td>\n",
       "      <td>2016-11-17 00:00:00</td>\n",
       "    </tr>\n",
       "    <tr>\n",
       "      <th>...</th>\n",
       "      <td>...</td>\n",
       "      <td>...</td>\n",
       "      <td>...</td>\n",
       "      <td>...</td>\n",
       "      <td>...</td>\n",
       "      <td>...</td>\n",
       "      <td>...</td>\n",
       "      <td>...</td>\n",
       "      <td>...</td>\n",
       "      <td>...</td>\n",
       "      <td>...</td>\n",
       "      <td>...</td>\n",
       "      <td>...</td>\n",
       "      <td>...</td>\n",
       "      <td>...</td>\n",
       "      <td>...</td>\n",
       "      <td>...</td>\n",
       "      <td>...</td>\n",
       "      <td>...</td>\n",
       "      <td>...</td>\n",
       "      <td>...</td>\n",
       "    </tr>\n",
       "    <tr>\n",
       "      <th>84543</th>\n",
       "      <td>8409</td>\n",
       "      <td>5</td>\n",
       "      <td>WOODROW</td>\n",
       "      <td>02 TWO FAMILY DWELLINGS</td>\n",
       "      <td>1</td>\n",
       "      <td>7349</td>\n",
       "      <td>34</td>\n",
       "      <td></td>\n",
       "      <td>B9</td>\n",
       "      <td>37 QUAIL LANE</td>\n",
       "      <td>...</td>\n",
       "      <td>2</td>\n",
       "      <td>0</td>\n",
       "      <td>2</td>\n",
       "      <td>2400</td>\n",
       "      <td>2575</td>\n",
       "      <td>1998</td>\n",
       "      <td>1</td>\n",
       "      <td>B9</td>\n",
       "      <td>450000</td>\n",
       "      <td>2016-11-28 00:00:00</td>\n",
       "    </tr>\n",
       "    <tr>\n",
       "      <th>84544</th>\n",
       "      <td>8410</td>\n",
       "      <td>5</td>\n",
       "      <td>WOODROW</td>\n",
       "      <td>02 TWO FAMILY DWELLINGS</td>\n",
       "      <td>1</td>\n",
       "      <td>7349</td>\n",
       "      <td>78</td>\n",
       "      <td></td>\n",
       "      <td>B9</td>\n",
       "      <td>32 PHEASANT LANE</td>\n",
       "      <td>...</td>\n",
       "      <td>2</td>\n",
       "      <td>0</td>\n",
       "      <td>2</td>\n",
       "      <td>2498</td>\n",
       "      <td>2377</td>\n",
       "      <td>1998</td>\n",
       "      <td>1</td>\n",
       "      <td>B9</td>\n",
       "      <td>550000</td>\n",
       "      <td>2017-04-21 00:00:00</td>\n",
       "    </tr>\n",
       "    <tr>\n",
       "      <th>84545</th>\n",
       "      <td>8411</td>\n",
       "      <td>5</td>\n",
       "      <td>WOODROW</td>\n",
       "      <td>02 TWO FAMILY DWELLINGS</td>\n",
       "      <td>1</td>\n",
       "      <td>7351</td>\n",
       "      <td>60</td>\n",
       "      <td></td>\n",
       "      <td>B2</td>\n",
       "      <td>49 PITNEY AVENUE</td>\n",
       "      <td>...</td>\n",
       "      <td>2</td>\n",
       "      <td>0</td>\n",
       "      <td>2</td>\n",
       "      <td>4000</td>\n",
       "      <td>1496</td>\n",
       "      <td>1925</td>\n",
       "      <td>1</td>\n",
       "      <td>B2</td>\n",
       "      <td>460000</td>\n",
       "      <td>2017-07-05 00:00:00</td>\n",
       "    </tr>\n",
       "    <tr>\n",
       "      <th>84546</th>\n",
       "      <td>8412</td>\n",
       "      <td>5</td>\n",
       "      <td>WOODROW</td>\n",
       "      <td>22 STORE BUILDINGS</td>\n",
       "      <td>4</td>\n",
       "      <td>7100</td>\n",
       "      <td>28</td>\n",
       "      <td></td>\n",
       "      <td>K6</td>\n",
       "      <td>2730 ARTHUR KILL ROAD</td>\n",
       "      <td>...</td>\n",
       "      <td>0</td>\n",
       "      <td>7</td>\n",
       "      <td>7</td>\n",
       "      <td>208033</td>\n",
       "      <td>64117</td>\n",
       "      <td>2001</td>\n",
       "      <td>4</td>\n",
       "      <td>K6</td>\n",
       "      <td>11693337</td>\n",
       "      <td>2016-12-21 00:00:00</td>\n",
       "    </tr>\n",
       "    <tr>\n",
       "      <th>84547</th>\n",
       "      <td>8413</td>\n",
       "      <td>5</td>\n",
       "      <td>WOODROW</td>\n",
       "      <td>35 INDOOR PUBLIC AND CULTURAL FACILITIES</td>\n",
       "      <td>4</td>\n",
       "      <td>7105</td>\n",
       "      <td>679</td>\n",
       "      <td></td>\n",
       "      <td>P9</td>\n",
       "      <td>155 CLAY PIT ROAD</td>\n",
       "      <td>...</td>\n",
       "      <td>0</td>\n",
       "      <td>1</td>\n",
       "      <td>1</td>\n",
       "      <td>10796</td>\n",
       "      <td>2400</td>\n",
       "      <td>2006</td>\n",
       "      <td>4</td>\n",
       "      <td>P9</td>\n",
       "      <td>69300</td>\n",
       "      <td>2016-10-27 00:00:00</td>\n",
       "    </tr>\n",
       "  </tbody>\n",
       "</table>\n",
       "<p>84548 rows × 22 columns</p>\n",
       "</div>"
      ],
      "text/plain": [
       "       Unnamed: 0  BOROUGH   NEIGHBORHOOD  \\\n",
       "0               4        1  ALPHABET CITY   \n",
       "1               5        1  ALPHABET CITY   \n",
       "2               6        1  ALPHABET CITY   \n",
       "3               7        1  ALPHABET CITY   \n",
       "4               8        1  ALPHABET CITY   \n",
       "...           ...      ...            ...   \n",
       "84543        8409        5        WOODROW   \n",
       "84544        8410        5        WOODROW   \n",
       "84545        8411        5        WOODROW   \n",
       "84546        8412        5        WOODROW   \n",
       "84547        8413        5        WOODROW   \n",
       "\n",
       "                           BUILDING CLASS CATEGORY TAX CLASS AT PRESENT  \\\n",
       "0      07 RENTALS - WALKUP APARTMENTS                                2A   \n",
       "1      07 RENTALS - WALKUP APARTMENTS                                 2   \n",
       "2      07 RENTALS - WALKUP APARTMENTS                                 2   \n",
       "3      07 RENTALS - WALKUP APARTMENTS                                2B   \n",
       "4      07 RENTALS - WALKUP APARTMENTS                                2A   \n",
       "...                                            ...                  ...   \n",
       "84543  02 TWO FAMILY DWELLINGS                                        1   \n",
       "84544  02 TWO FAMILY DWELLINGS                                        1   \n",
       "84545  02 TWO FAMILY DWELLINGS                                        1   \n",
       "84546  22 STORE BUILDINGS                                             4   \n",
       "84547  35 INDOOR PUBLIC AND CULTURAL FACILITIES                       4   \n",
       "\n",
       "       BLOCK  LOT EASE-MENT BUILDING CLASS AT PRESENT                 ADDRESS  \\\n",
       "0        392    6                                  C2            153 AVENUE B   \n",
       "1        399   26                                  C7   234 EAST 4TH   STREET   \n",
       "2        399   39                                  C7   197 EAST 3RD   STREET   \n",
       "3        402   21                                  C4     154 EAST 7TH STREET   \n",
       "4        404   55                                  C2  301 EAST 10TH   STREET   \n",
       "...      ...  ...       ...                       ...                     ...   \n",
       "84543   7349   34                                  B9           37 QUAIL LANE   \n",
       "84544   7349   78                                  B9        32 PHEASANT LANE   \n",
       "84545   7351   60                                  B2        49 PITNEY AVENUE   \n",
       "84546   7100   28                                  K6   2730 ARTHUR KILL ROAD   \n",
       "84547   7105  679                                  P9       155 CLAY PIT ROAD   \n",
       "\n",
       "       ... RESIDENTIAL UNITS  COMMERCIAL UNITS  TOTAL UNITS  LAND SQUARE FEET  \\\n",
       "0      ...                 5                 0            5              1633   \n",
       "1      ...                28                 3           31              4616   \n",
       "2      ...                16                 1           17              2212   \n",
       "3      ...                10                 0           10              2272   \n",
       "4      ...                 6                 0            6              2369   \n",
       "...    ...               ...               ...          ...               ...   \n",
       "84543  ...                 2                 0            2              2400   \n",
       "84544  ...                 2                 0            2              2498   \n",
       "84545  ...                 2                 0            2              4000   \n",
       "84546  ...                 0                 7            7            208033   \n",
       "84547  ...                 0                 1            1             10796   \n",
       "\n",
       "       GROSS SQUARE FEET YEAR BUILT TAX CLASS AT TIME OF SALE  \\\n",
       "0                   6440       1900                         2   \n",
       "1                  18690       1900                         2   \n",
       "2                   7803       1900                         2   \n",
       "3                   6794       1913                         2   \n",
       "4                   4615       1900                         2   \n",
       "...                  ...        ...                       ...   \n",
       "84543               2575       1998                         1   \n",
       "84544               2377       1998                         1   \n",
       "84545               1496       1925                         1   \n",
       "84546              64117       2001                         4   \n",
       "84547               2400       2006                         4   \n",
       "\n",
       "       BUILDING CLASS AT TIME OF SALE  SALE PRICE            SALE DATE  \n",
       "0                                  C2     6625000  2017-07-19 00:00:00  \n",
       "1                                  C7         -    2016-12-14 00:00:00  \n",
       "2                                  C7         -    2016-12-09 00:00:00  \n",
       "3                                  C4     3936272  2016-09-23 00:00:00  \n",
       "4                                  C2     8000000  2016-11-17 00:00:00  \n",
       "...                               ...         ...                  ...  \n",
       "84543                              B9      450000  2016-11-28 00:00:00  \n",
       "84544                              B9      550000  2017-04-21 00:00:00  \n",
       "84545                              B2      460000  2017-07-05 00:00:00  \n",
       "84546                              K6    11693337  2016-12-21 00:00:00  \n",
       "84547                              P9       69300  2016-10-27 00:00:00  \n",
       "\n",
       "[84548 rows x 22 columns]"
      ]
     },
     "execution_count": 3,
     "metadata": {},
     "output_type": "execute_result"
    }
   ],
   "source": [
    "df = pd.read_csv(\"../Dataset/nyc-rolling-sales.csv\")\n",
    "df"
   ]
  },
  {
   "cell_type": "markdown",
   "id": "555be587",
   "metadata": {},
   "source": [
    "========================================================================================================================"
   ]
  },
  {
   "cell_type": "markdown",
   "id": "32791334",
   "metadata": {},
   "source": [
    "# Measure of Central Tendency"
   ]
  },
  {
   "cell_type": "markdown",
   "id": "b4a38359",
   "metadata": {},
   "source": [
    "----------------------------------------------------------------------------------------------------------------------------"
   ]
  },
  {
   "cell_type": "markdown",
   "id": "b284bf40",
   "metadata": {},
   "source": [
    "### Mean\n",
    "\n",
    "Pertanyaan : **Harga rata-rata Apartemen di kota New York**"
   ]
  },
  {
   "cell_type": "markdown",
   "id": "0669092b",
   "metadata": {},
   "source": [
    "Kolom yang dipakai = 'SALE PRICE'\n",
    "- Sebelum dilakukan pencarian nilai rata-rata pada kolom sale price, nilai missing pada kolom tersebut harus diatasi terlebih dahulu"
   ]
  },
  {
   "cell_type": "code",
   "execution_count": 4,
   "id": "712c5836",
   "metadata": {},
   "outputs": [],
   "source": [
    "# Kode baris pertama berguna untuk mengubah data '-' pada kolom SALE PRICE menjadi 0\n",
    "# Nilai 0 digunakan untuk mengganti nilai '-' dikarenakan nilai tersebut tidak akan mengganggu nilai MEAN data yang telah tertulis\n",
    "\n",
    "mean_list = df['SALE PRICE']\n",
    "mean_list = mean_list.replace([' -  '], '0')\n",
    "mean_list = mean_list.astype(float)\n"
   ]
  },
  {
   "cell_type": "code",
   "execution_count": 5,
   "id": "c47f2d9f",
   "metadata": {},
   "outputs": [
    {
     "name": "stdout",
     "output_type": "stream",
     "text": [
      "Rata - rata harga bangunan di kota New York = $ 1056623\n"
     ]
    }
   ],
   "source": [
    "mean = mean_list.mean()\n",
    "print('Rata - rata harga bangunan di kota New York = $', round(mean))"
   ]
  },
  {
   "cell_type": "markdown",
   "id": "e23a926d",
   "metadata": {},
   "source": [
    "Di kota New York harga rata-rata Apartemen yaitu sebesar **1.056.623 dolar**, dengan ketentuan : hanya menghitung bangunan yang memiliki harga bangunan pada dataset"
   ]
  },
  {
   "cell_type": "markdown",
   "id": "0a2e10e8",
   "metadata": {},
   "source": [
    "----------------------------------------------------------------------------------------------------------------------------"
   ]
  },
  {
   "cell_type": "markdown",
   "id": "81efdee6",
   "metadata": {},
   "source": [
    "### Median\n",
    "\n",
    "Pertanyaan : **Median dari beberepa kolom Numerikal pada dataframe**"
   ]
  },
  {
   "cell_type": "code",
   "execution_count": 6,
   "id": "09f127f6",
   "metadata": {},
   "outputs": [],
   "source": [
    "median_series = [df['BLOCK'], df['LOT'], df['RESIDENTIAL UNITS'], df['COMMERCIAL UNITS'], df['TOTAL UNITS']]\n",
    "name = ['BLOCK', 'LOT', 'RESIDENTIAL UNITS', 'COMMERCIAL UNITS', 'TOTAL UNITS']"
   ]
  },
  {
   "cell_type": "code",
   "execution_count": 7,
   "id": "777f1d78",
   "metadata": {},
   "outputs": [
    {
     "name": "stdout",
     "output_type": "stream",
     "text": [
      "Median dari kolom  BLOCK  =  3311.0\n",
      "Median dari kolom  LOT  =  50.0\n",
      "Median dari kolom  RESIDENTIAL UNITS  =  1.0\n",
      "Median dari kolom  COMMERCIAL UNITS  =  0.0\n",
      "Median dari kolom  TOTAL UNITS  =  1.0\n"
     ]
    }
   ],
   "source": [
    "for i in range(len(median_series)):\n",
    "    x = np.median(median_series[i])    \n",
    "    print('Median dari kolom ', name[i], ' = ', x)\n"
   ]
  },
  {
   "cell_type": "code",
   "execution_count": null,
   "id": "0dcd716f",
   "metadata": {},
   "outputs": [],
   "source": []
  },
  {
   "cell_type": "markdown",
   "id": "309a09ec",
   "metadata": {},
   "source": [
    "----------------------------------------------------------------------------------------------------------------------------"
   ]
  },
  {
   "cell_type": "markdown",
   "id": "d64e9f57",
   "metadata": {},
   "source": [
    "### Modus\n",
    "Modus dari beberepa kolom kategorikal pada dataframe\n",
    "\n",
    "Pertanyaan : \n",
    "- Neighborhood yang memiliki bangunan terbanyak\n",
    "- Bangunan dengan kelas pajak terbanyak\n",
    "- Borough/wilayah dengan ketersediaan bangunan terbanyak"
   ]
  },
  {
   "cell_type": "code",
   "execution_count": 8,
   "id": "d0f2a53c",
   "metadata": {},
   "outputs": [],
   "source": [
    "mode_series = [df['NEIGHBORHOOD'], df['TAX CLASS AT PRESENT'], df['BOROUGH']]"
   ]
  },
  {
   "cell_type": "code",
   "execution_count": 9,
   "id": "8f120810",
   "metadata": {},
   "outputs": [
    {
     "name": "stdout",
     "output_type": "stream",
     "text": [
      "Jawaban pertanyaan 1 :  ['FLUSHING-NORTH'] [3068]\n"
     ]
    }
   ],
   "source": [
    "# Pertanyaan 1 : Neighborhood yang memiliki bangunan terbanyak\n",
    "\n",
    "mode1 = scipy.stats.mode(mode_series[0])\n",
    "print('Jawaban pertanyaan 1 : ', mode1.mode , mode1.count)"
   ]
  },
  {
   "cell_type": "markdown",
   "id": "e42e7aea",
   "metadata": {},
   "source": [
    "Neighborhood di kota New York yang memiliki apartemen terbanyak yaitu di Neighborhood **FLUSHING NORTH** yang memiliki jumlah apartemen sebanyak **3068 Bangunan**"
   ]
  },
  {
   "cell_type": "code",
   "execution_count": 10,
   "id": "0f6af89e",
   "metadata": {},
   "outputs": [
    {
     "name": "stdout",
     "output_type": "stream",
     "text": [
      "Jawaban pertanyaan 2 :  ['1'] [38633]\n"
     ]
    }
   ],
   "source": [
    "# Pertanyaan 2 : Bangunan dengan kelas pajak terbanyak\n",
    "\n",
    "mode2 = scipy.stats.mode(mode_series[1])\n",
    "print('Jawaban pertanyaan 2 : ', mode2.mode , mode2.count)"
   ]
  },
  {
   "cell_type": "markdown",
   "id": "dd95ad3f",
   "metadata": {},
   "source": [
    "Di kota New York banyak bangunan yang memiliki pajak bangunan **kelas 1** dengan jumlah bangunan sebanyak **38633 Bangunan**, \n",
    "\n",
    "Artinya kebanyakan apartemen di kota New York memiliki pajak yang cukup terjangkau bagi masyarakat kelas menengah keatas"
   ]
  },
  {
   "cell_type": "code",
   "execution_count": 11,
   "id": "cc879cb0",
   "metadata": {},
   "outputs": [
    {
     "name": "stdout",
     "output_type": "stream",
     "text": [
      "Jawaban pertanyaan 3 :  [4] [26736]\n"
     ]
    }
   ],
   "source": [
    "# Pertanyaan 3 : Borough/wilayah dengan ketersediaan bangunan terbanyak\n",
    "\n",
    "mode3 = scipy.stats.mode(mode_series[2])\n",
    "print('Jawaban pertanyaan 3 : ', mode3.mode , mode3.count)"
   ]
  },
  {
   "cell_type": "markdown",
   "id": "76e2912e",
   "metadata": {},
   "source": [
    "Wilayah **Queens (4)** merupakan wilayah terpadat dikarenakan memiliki jumlah apartemen terbanyak dibandingkan dengan wilayah lain di kota New York yaitu sebanyak **26736 Bangunan**"
   ]
  },
  {
   "cell_type": "markdown",
   "id": "fa82f2fa",
   "metadata": {},
   "source": [
    "========================================================================================================================"
   ]
  },
  {
   "cell_type": "markdown",
   "id": "c642afce",
   "metadata": {},
   "source": [
    "# Measure of Spread"
   ]
  },
  {
   "cell_type": "markdown",
   "id": "b626054e",
   "metadata": {},
   "source": [
    "### Range\n",
    "\n",
    "Pertanyaan : **Range dari Harga Apartemen termahal dengan Harga apartemen termurah**"
   ]
  },
  {
   "cell_type": "code",
   "execution_count": 12,
   "id": "e78ee410",
   "metadata": {},
   "outputs": [],
   "source": [
    "df['SALE PRICE'] = df['SALE PRICE'].replace([' -  '], '0')\n",
    "df['SALE PRICE'] = df['SALE PRICE'].astype(float)"
   ]
  },
  {
   "cell_type": "code",
   "execution_count": 18,
   "id": "6cd1b9e7",
   "metadata": {},
   "outputs": [],
   "source": [
    "ranged = df\n",
    "ranged.drop(ranged[ranged['SALE PRICE'] <= 0].index, inplace=True)"
   ]
  },
  {
   "cell_type": "code",
   "execution_count": 20,
   "id": "bba1f3f9",
   "metadata": {},
   "outputs": [
    {
     "name": "stdout",
     "output_type": "stream",
     "text": [
      "Harga Apartemen Terendah  : $  1.0\n",
      "Harga Apartemen Tertinggi : $  2210000000.0\n",
      "Jarak antar Harga Apartemen Terendah dan tertinggi : $  2209999999.0\n"
     ]
    }
   ],
   "source": [
    "print(\"Harga Apartemen Terendah  : $ \", np.amin(ranged['SALE PRICE']))\n",
    "print(\"Harga Apartemen Tertinggi : $ \", np.amax(ranged['SALE PRICE']))\n",
    "print(\"Jarak antar Harga Apartemen Terendah dan tertinggi : $ \", np.ptp(ranged['SALE PRICE']))"
   ]
  },
  {
   "cell_type": "markdown",
   "id": "65bd306e",
   "metadata": {},
   "source": [
    "Jawab : Jarak antara harga apartemen tertinggi dengan terendah adalah $ **2209999999.0**"
   ]
  },
  {
   "cell_type": "markdown",
   "id": "7f60d2f3",
   "metadata": {},
   "source": [
    "----------------------------------------------------------------------------------------------------------------------------"
   ]
  },
  {
   "cell_type": "markdown",
   "id": "ba42a8a7",
   "metadata": {},
   "source": [
    "### Variance\n",
    "\n",
    "Pertanyaan : **Variance dari kolom harga apartemen**"
   ]
  },
  {
   "cell_type": "code",
   "execution_count": 21,
   "id": "6a2d05c2",
   "metadata": {},
   "outputs": [
    {
     "name": "stdout",
     "output_type": "stream",
     "text": [
      "Variance :  152014779013418.53\n"
     ]
    }
   ],
   "source": [
    "var = np.var(ranged['SALE PRICE'])\n",
    "print('Variance : ', var)"
   ]
  },
  {
   "cell_type": "markdown",
   "id": "b3761e66",
   "metadata": {},
   "source": [
    "Jawab : Variance nya adalah **152014779013418.53**"
   ]
  },
  {
   "cell_type": "markdown",
   "id": "6f019573",
   "metadata": {},
   "source": [
    "----------------------------------------------------------------------------------------------------------------------------"
   ]
  },
  {
   "cell_type": "markdown",
   "id": "9e714cb3",
   "metadata": {},
   "source": [
    "### Standard Deviation\n",
    "\n",
    "Pertanyaan : **Standard Deviation dari kolom harga apartemen**"
   ]
  },
  {
   "cell_type": "code",
   "execution_count": 24,
   "id": "9cd26300",
   "metadata": {},
   "outputs": [
    {
     "name": "stdout",
     "output_type": "stream",
     "text": [
      "Standard Deviation :  12329427\n"
     ]
    }
   ],
   "source": [
    "std = var ** 0.5\n",
    "print('Standard Deviation : ', round(std))"
   ]
  },
  {
   "cell_type": "markdown",
   "id": "0027549e",
   "metadata": {},
   "source": [
    "Jawab : Standard Deviation dari Kolom harga apartemen adalah akar kuadrat dari nilai variance nya, nilainya : **12329427**"
   ]
  },
  {
   "cell_type": "markdown",
   "id": "36300b2a",
   "metadata": {},
   "source": [
    "========================================================================================================================"
   ]
  },
  {
   "cell_type": "markdown",
   "id": "5091b28b",
   "metadata": {},
   "source": [
    "# Probability Distribution"
   ]
  },
  {
   "cell_type": "code",
   "execution_count": null,
   "id": "5480f3cf",
   "metadata": {},
   "outputs": [],
   "source": []
  }
 ],
 "metadata": {
  "kernelspec": {
   "display_name": "Python 3 (ipykernel)",
   "language": "python",
   "name": "python3"
  },
  "language_info": {
   "codemirror_mode": {
    "name": "ipython",
    "version": 3
   },
   "file_extension": ".py",
   "mimetype": "text/x-python",
   "name": "python",
   "nbconvert_exporter": "python",
   "pygments_lexer": "ipython3",
   "version": "3.8.8"
  }
 },
 "nbformat": 4,
 "nbformat_minor": 5
}
