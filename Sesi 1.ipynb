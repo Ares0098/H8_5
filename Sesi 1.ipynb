{
 "cells": [
  {
   "cell_type": "markdown",
   "id": "1dccbc47",
   "metadata": {},
   "source": [
    "### Integers"
   ]
  },
  {
   "cell_type": "code",
   "execution_count": 1,
   "id": "bacca880",
   "metadata": {},
   "outputs": [
    {
     "name": "stdout",
     "output_type": "stream",
     "text": [
      "123123123123123123123124\n"
     ]
    }
   ],
   "source": [
    "print(123123123123123123123123 + 1)"
   ]
  },
  {
   "cell_type": "code",
   "execution_count": 1,
   "id": "1c6e0312",
   "metadata": {},
   "outputs": [
    {
     "name": "stdout",
     "output_type": "stream",
     "text": [
      "10\n",
      "<class 'int'>\n"
     ]
    }
   ],
   "source": [
    "print(10)\n",
    "print(type(10))"
   ]
  },
  {
   "cell_type": "markdown",
   "id": "8320445f",
   "metadata": {},
   "source": [
    "### Floating-Point Numbers"
   ]
  },
  {
   "cell_type": "code",
   "execution_count": 2,
   "id": "8fee6811",
   "metadata": {},
   "outputs": [
    {
     "name": "stdout",
     "output_type": "stream",
     "text": [
      "4.2\n",
      "<class 'float'>\n",
      "4.0\n",
      "0.2\n",
      "4000000.0\n",
      "0.00042\n"
     ]
    }
   ],
   "source": [
    "print(4.2)\n",
    "print(type(4.2))\n",
    "\n",
    "print(4.)\n",
    "print(.2)\n",
    "print(.4e7)\n",
    "print(4.2e-4)"
   ]
  },
  {
   "cell_type": "markdown",
   "id": "9bb9d2fd",
   "metadata": {},
   "source": [
    "### String"
   ]
  },
  {
   "cell_type": "code",
   "execution_count": 3,
   "id": "9c645147",
   "metadata": {},
   "outputs": [
    {
     "name": "stdout",
     "output_type": "stream",
     "text": [
      "Hacktiv8\n",
      "<class 'str'>\n"
     ]
    }
   ],
   "source": [
    "print(\"Hacktiv8\")\n",
    "print(type(\"Hacktiv8\"))"
   ]
  },
  {
   "cell_type": "code",
   "execution_count": 4,
   "id": "8a7fdc83",
   "metadata": {},
   "outputs": [
    {
     "name": "stdout",
     "output_type": "stream",
     "text": [
      "\n",
      "This string contains a single quote (') character. \n",
      "This string contains a double quote (\") character. \n"
     ]
    }
   ],
   "source": [
    "print('')\n",
    "print(\"This string contains a single quote (') character. \")\n",
    "print('This string contains a double quote (\") character. ')"
   ]
  },
  {
   "cell_type": "markdown",
   "id": "13106f21",
   "metadata": {},
   "source": [
    "### Boolean Type, Boolean Context, and Truthiness"
   ]
  },
  {
   "cell_type": "code",
   "execution_count": 5,
   "id": "6a153de8",
   "metadata": {},
   "outputs": [
    {
     "name": "stdout",
     "output_type": "stream",
     "text": [
      "<class 'bool'>\n",
      "<class 'bool'>\n"
     ]
    }
   ],
   "source": [
    "print(type(True))\n",
    "print(type(False))"
   ]
  },
  {
   "cell_type": "markdown",
   "id": "dbec4602",
   "metadata": {},
   "source": [
    "### Variable Assignment"
   ]
  },
  {
   "cell_type": "code",
   "execution_count": 6,
   "id": "3d62b425",
   "metadata": {},
   "outputs": [
    {
     "name": "stdout",
     "output_type": "stream",
     "text": [
      "300\n"
     ]
    }
   ],
   "source": [
    "n = 300\n",
    "print(n)"
   ]
  },
  {
   "cell_type": "code",
   "execution_count": 7,
   "id": "728ca949",
   "metadata": {},
   "outputs": [
    {
     "data": {
      "text/plain": [
       "300"
      ]
     },
     "execution_count": 7,
     "metadata": {},
     "output_type": "execute_result"
    }
   ],
   "source": [
    "n"
   ]
  },
  {
   "cell_type": "code",
   "execution_count": 8,
   "id": "f14c1585",
   "metadata": {},
   "outputs": [
    {
     "name": "stdout",
     "output_type": "stream",
     "text": [
      "1000\n"
     ]
    },
    {
     "data": {
      "text/plain": [
       "1000"
      ]
     },
     "execution_count": 8,
     "metadata": {},
     "output_type": "execute_result"
    }
   ],
   "source": [
    "n = 1000\n",
    "print(n)\n",
    "\n",
    "n"
   ]
  },
  {
   "cell_type": "code",
   "execution_count": 9,
   "id": "58e2ef35",
   "metadata": {},
   "outputs": [
    {
     "name": "stdout",
     "output_type": "stream",
     "text": [
      "300 300 300\n"
     ]
    }
   ],
   "source": [
    "a = b = c = 300\n",
    "print(a, b, c)"
   ]
  },
  {
   "cell_type": "markdown",
   "id": "dc3106c3",
   "metadata": {},
   "source": [
    "### Variable Types in Python"
   ]
  },
  {
   "cell_type": "code",
   "execution_count": 10,
   "id": "95a44334",
   "metadata": {},
   "outputs": [
    {
     "name": "stdout",
     "output_type": "stream",
     "text": [
      "23.5\n",
      "Now I'm a string\n"
     ]
    }
   ],
   "source": [
    "var = 23.5\n",
    "print(var)\n",
    "\n",
    "var = \"Now I'm a string\"\n",
    "print(var)"
   ]
  },
  {
   "cell_type": "markdown",
   "id": "c80a0142",
   "metadata": {},
   "source": [
    "### Variable Names"
   ]
  },
  {
   "cell_type": "code",
   "execution_count": 11,
   "id": "c666cc8e",
   "metadata": {},
   "outputs": [
    {
     "name": "stdout",
     "output_type": "stream",
     "text": [
      "Hacktiv8 54 True\n"
     ]
    }
   ],
   "source": [
    "name = \"Hacktiv8\"\n",
    "Age = 54\n",
    "has_laptops = True\n",
    "print(name, Age, has_laptops)"
   ]
  },
  {
   "cell_type": "code",
   "execution_count": 12,
   "id": "e9b21656",
   "metadata": {},
   "outputs": [
    {
     "ename": "SyntaxError",
     "evalue": "invalid decimal literal (Temp/ipykernel_8080/687628429.py, line 1)",
     "output_type": "error",
     "traceback": [
      "\u001b[1;36m  File \u001b[1;32m\"C:\\Users\\ARES~1\\AppData\\Local\\Temp/ipykernel_8080/687628429.py\"\u001b[1;36m, line \u001b[1;32m1\u001b[0m\n\u001b[1;33m    9_kepala_naga = True\u001b[0m\n\u001b[1;37m     ^\u001b[0m\n\u001b[1;31mSyntaxError\u001b[0m\u001b[1;31m:\u001b[0m invalid decimal literal\n"
     ]
    }
   ],
   "source": [
    "9_kepala_naga = True"
   ]
  },
  {
   "cell_type": "code",
   "execution_count": null,
   "id": "5e3d02b6",
   "metadata": {},
   "outputs": [],
   "source": [
    "age = 1\n",
    "Age = 2\n",
    "aGe = 3\n",
    "AGE = 4\n",
    "a_g_e = 5\n",
    "_age = 6\n",
    "age_ = 7\n",
    "_AGE_ = 8\n",
    "\n",
    "print(age, Age, aGe, AGE, a_g_e, _age, age_, _AGE_)"
   ]
  },
  {
   "cell_type": "markdown",
   "id": "35ddb490",
   "metadata": {},
   "source": [
    "### Operators and Expressions in Python"
   ]
  },
  {
   "cell_type": "code",
   "execution_count": null,
   "id": "4d4539f1",
   "metadata": {},
   "outputs": [],
   "source": [
    "a = 10\n",
    "b = 20\n",
    "a + b"
   ]
  },
  {
   "cell_type": "code",
   "execution_count": null,
   "id": "e9c57c6c",
   "metadata": {},
   "outputs": [],
   "source": [
    "a = 10\n",
    "b = 20\n",
    "a + b - 5"
   ]
  },
  {
   "cell_type": "markdown",
   "id": "5f93b801",
   "metadata": {},
   "source": [
    "### Arithmetic Operators"
   ]
  },
  {
   "cell_type": "code",
   "execution_count": 13,
   "id": "81b7150e",
   "metadata": {},
   "outputs": [
    {
     "name": "stdout",
     "output_type": "stream",
     "text": [
      "7\n",
      "1\n",
      "12\n",
      "1.3333333333333333\n",
      "1\n",
      "64\n"
     ]
    }
   ],
   "source": [
    "a = 4\n",
    "b = 3\n",
    "\n",
    "print(a + b)\n",
    "print(a - b)\n",
    "print(a * b)\n",
    "print(a / b)\n",
    "print(a % b)\n",
    "print(a ** b)"
   ]
  },
  {
   "cell_type": "code",
   "execution_count": 14,
   "id": "882d6cb2",
   "metadata": {},
   "outputs": [
    {
     "data": {
      "text/plain": [
       "2.0"
      ]
     },
     "execution_count": 14,
     "metadata": {},
     "output_type": "execute_result"
    }
   ],
   "source": [
    "10/5"
   ]
  },
  {
   "cell_type": "markdown",
   "id": "457f0d3f",
   "metadata": {},
   "source": [
    "### Comparison Operators"
   ]
  },
  {
   "cell_type": "code",
   "execution_count": 15,
   "id": "29d1420d",
   "metadata": {},
   "outputs": [
    {
     "name": "stdout",
     "output_type": "stream",
     "text": [
      "False\n",
      "True\n",
      "True\n",
      "False\n",
      "True\n",
      "True\n",
      "True\n"
     ]
    }
   ],
   "source": [
    "a = 10\n",
    "b = 20\n",
    "print(a == b)\n",
    "\n",
    "print(a != b)\n",
    "\n",
    "print(a <= b)\n",
    "\n",
    "print(a >= b)\n",
    "\n",
    "a = 30\n",
    "b = 30\n",
    "\n",
    "print(a == b)\n",
    "\n",
    "print(a <= b)\n",
    "\n",
    "print(a >= b)"
   ]
  },
  {
   "cell_type": "markdown",
   "id": "db08acb6",
   "metadata": {},
   "source": [
    "### String Manipulation"
   ]
  },
  {
   "cell_type": "code",
   "execution_count": 16,
   "id": "618af119",
   "metadata": {},
   "outputs": [
    {
     "name": "stdout",
     "output_type": "stream",
     "text": [
      "foobar\n",
      "foobarbaz\n",
      "Hacktiv8PTP\n"
     ]
    }
   ],
   "source": [
    "s = 'foo'\n",
    "t = 'bar'\n",
    "u = 'baz'\n",
    "\n",
    "print(s + t)\n",
    "print(s + t + u)\n",
    "\n",
    "print('Hacktiv8' + 'PTP')"
   ]
  },
  {
   "cell_type": "code",
   "execution_count": 17,
   "id": "1a3cc8ec",
   "metadata": {},
   "outputs": [
    {
     "data": {
      "text/plain": [
       "'foo.foo.foo.foo.'"
      ]
     },
     "execution_count": 17,
     "metadata": {},
     "output_type": "execute_result"
    }
   ],
   "source": [
    "s = 'foo.'\n",
    "s * 4"
   ]
  },
  {
   "cell_type": "code",
   "execution_count": 18,
   "id": "a1a35411",
   "metadata": {},
   "outputs": [
    {
     "name": "stdout",
     "output_type": "stream",
     "text": [
      "True\n",
      "False\n"
     ]
    }
   ],
   "source": [
    "s = 'foo'\n",
    "\n",
    "print(s in 'That food for us')\n",
    "\n",
    "print(s in 'That good for us')"
   ]
  },
  {
   "cell_type": "code",
   "execution_count": 19,
   "id": "5b22fb0e",
   "metadata": {},
   "outputs": [
    {
     "name": "stdout",
     "output_type": "stream",
     "text": [
      "Hacktiv8\n",
      "hacktiv8\n",
      "hACKtiv8\n",
      "Hacktiv8\n",
      "HACKTIV8\n"
     ]
    }
   ],
   "source": [
    "s = 'HackTIV8'\n",
    "\n",
    "print(s.capitalize())\n",
    "\n",
    "print(s.lower())\n",
    "\n",
    "print(s.swapcase())\n",
    "\n",
    "print(s.title())\n",
    "\n",
    "print(s.upper())"
   ]
  },
  {
   "cell_type": "markdown",
   "id": "51703bbe",
   "metadata": {},
   "source": [
    "## Python Lists"
   ]
  },
  {
   "cell_type": "code",
   "execution_count": 20,
   "id": "a92e9356",
   "metadata": {},
   "outputs": [
    {
     "name": "stdout",
     "output_type": "stream",
     "text": [
      "['foo', 'bar', 'baz', 'qux']\n"
     ]
    }
   ],
   "source": [
    "a = ['foo', 'bar', 'baz', 'qux']\n",
    "\n",
    "print(a)"
   ]
  },
  {
   "cell_type": "markdown",
   "id": "3e2f76bf",
   "metadata": {},
   "source": [
    "### List Can Contain Arbitrary Objects"
   ]
  },
  {
   "cell_type": "code",
   "execution_count": 21,
   "id": "e4b0e693",
   "metadata": {},
   "outputs": [
    {
     "name": "stdout",
     "output_type": "stream",
     "text": [
      "[21.42, 'foobar', 3, 4, 'bark', False, 3.14159]\n"
     ]
    }
   ],
   "source": [
    "a = [21.42, 'foobar', 3, 4, 'bark', False, 3.14159]\n",
    "\n",
    "print(a)"
   ]
  },
  {
   "cell_type": "markdown",
   "id": "b1644246",
   "metadata": {},
   "source": [
    "### List Can Be Accessed by Index"
   ]
  },
  {
   "cell_type": "code",
   "execution_count": 22,
   "id": "20031d08",
   "metadata": {},
   "outputs": [],
   "source": [
    "a = ['foo', 'bar', 'baz', 'qux', 'quux', 'corge']\n"
   ]
  },
  {
   "cell_type": "code",
   "execution_count": 23,
   "id": "c539d3c5",
   "metadata": {},
   "outputs": [
    {
     "name": "stdout",
     "output_type": "stream",
     "text": [
      "foo\n",
      "corge\n"
     ]
    }
   ],
   "source": [
    "print(a[0])\n",
    "print(a[5])"
   ]
  },
  {
   "cell_type": "code",
   "execution_count": 24,
   "id": "e83fcc09",
   "metadata": {},
   "outputs": [
    {
     "name": "stdout",
     "output_type": "stream",
     "text": [
      "corge\n",
      "foo\n"
     ]
    }
   ],
   "source": [
    "print(a[-1])\n",
    "print(a[-6])"
   ]
  },
  {
   "cell_type": "code",
   "execution_count": 25,
   "id": "b9881e1c",
   "metadata": {},
   "outputs": [
    {
     "data": {
      "text/plain": [
       "['baz', 'qux', 'quux']"
      ]
     },
     "execution_count": 25,
     "metadata": {},
     "output_type": "execute_result"
    }
   ],
   "source": [
    "a = ['foo', 'bar', 'baz', 'qux', 'quux', 'corge']\n",
    "a[2:5]"
   ]
  },
  {
   "cell_type": "code",
   "execution_count": 26,
   "id": "c29d3a0b",
   "metadata": {},
   "outputs": [
    {
     "name": "stdout",
     "output_type": "stream",
     "text": [
      "['foo', 'bar', 'baz', 'qux', 'quux', 'corge']\n",
      "['foo', 'bar', 'baz', 'qux', 'quux', 'corge', 'grault', 'garply']\n",
      "['foo', 'bar', 'baz', 'qux', 'quux', 'corge', 'foo', 'bar', 'baz', 'qux', 'quux', 'corge']\n"
     ]
    }
   ],
   "source": [
    "print(a)\n",
    "print(a + ['grault', 'garply'])\n",
    "print(a * 2)"
   ]
  },
  {
   "cell_type": "code",
   "execution_count": 27,
   "id": "7475110f",
   "metadata": {},
   "outputs": [
    {
     "name": "stdout",
     "output_type": "stream",
     "text": [
      "['foo', 'bar', 'baz', 'qux', 'quux', 'corge']\n",
      "6\n",
      "bar\n",
      "qux\n"
     ]
    }
   ],
   "source": [
    "print(a)\n",
    "\n",
    "print(len(a))\n",
    "print(min(a))\n",
    "print(max(a))"
   ]
  },
  {
   "cell_type": "markdown",
   "id": "955c6668",
   "metadata": {},
   "source": [
    "### Modifying a Single List Value"
   ]
  },
  {
   "cell_type": "code",
   "execution_count": 28,
   "id": "0262ad52",
   "metadata": {},
   "outputs": [
    {
     "name": "stdout",
     "output_type": "stream",
     "text": [
      "['foo', 'bar', 'baz', 'qux', 'quux', 'corge']\n",
      "['foo', 'bar', 10, 'qux', 'quux', 20]\n"
     ]
    }
   ],
   "source": [
    "a = ['foo', 'bar', 'baz', 'qux', 'quux', 'corge']\n",
    "\n",
    "print(a)\n",
    "a[2] = 10\n",
    "a[-1] = 20\n",
    "\n",
    "print(a)"
   ]
  },
  {
   "cell_type": "code",
   "execution_count": 29,
   "id": "35086390",
   "metadata": {},
   "outputs": [],
   "source": [
    "del a[3]"
   ]
  },
  {
   "cell_type": "code",
   "execution_count": 30,
   "id": "32c04a3f",
   "metadata": {},
   "outputs": [
    {
     "name": "stdout",
     "output_type": "stream",
     "text": [
      "['foo', 'bar', 10, 'quux', 20]\n"
     ]
    }
   ],
   "source": [
    "print(a)"
   ]
  },
  {
   "cell_type": "markdown",
   "id": "4a85d98a",
   "metadata": {},
   "source": [
    "### Modifying a Single List Value"
   ]
  },
  {
   "cell_type": "code",
   "execution_count": 31,
   "id": "89edc2e5",
   "metadata": {},
   "outputs": [],
   "source": [
    "a = ['foo', 'bar', 'baz', 'qux', 'quux', 'corge']"
   ]
  },
  {
   "cell_type": "code",
   "execution_count": 32,
   "id": "0ef59807",
   "metadata": {},
   "outputs": [
    {
     "name": "stdout",
     "output_type": "stream",
     "text": [
      "['bar', 'baz', 'qux']\n",
      "['foo', 1.1, 2.2, 3.3, 4.4, 5.5, 'quux', 'corge']\n"
     ]
    }
   ],
   "source": [
    "print(a[1:4])\n",
    "\n",
    "a[1:4] = [1.1, 2.2, 3.3, 4.4, 5.5]\n",
    "\n",
    "print(a)"
   ]
  },
  {
   "cell_type": "markdown",
   "id": "0a29ea86",
   "metadata": {},
   "source": [
    "## Python Tuple"
   ]
  },
  {
   "cell_type": "markdown",
   "id": "b3e391bf",
   "metadata": {},
   "source": [
    "### Defining and Using Tuples"
   ]
  },
  {
   "cell_type": "code",
   "execution_count": 33,
   "id": "aa1ebb4c",
   "metadata": {},
   "outputs": [
    {
     "name": "stdout",
     "output_type": "stream",
     "text": [
      "('foo', 'bar', 'baz', 'qux', 'quux', 'corge')\n"
     ]
    }
   ],
   "source": [
    "t = ('foo', 'bar', 'baz', 'qux', 'quux', 'corge')\n",
    "\n",
    "print(t)"
   ]
  },
  {
   "cell_type": "code",
   "execution_count": 34,
   "id": "c66eec65",
   "metadata": {},
   "outputs": [
    {
     "name": "stdout",
     "output_type": "stream",
     "text": [
      "foo\n",
      "corge\n"
     ]
    }
   ],
   "source": [
    "print(t[0])\n",
    "\n",
    "print(t[-1])"
   ]
  },
  {
   "cell_type": "code",
   "execution_count": 35,
   "id": "e1ce7079",
   "metadata": {},
   "outputs": [
    {
     "data": {
      "text/plain": [
       "'foo'"
      ]
     },
     "execution_count": 35,
     "metadata": {},
     "output_type": "execute_result"
    }
   ],
   "source": [
    "(s1, s2, s3, s4) = ('foo', 'bar', 'baz', 'qux')\n",
    "\n",
    "s1"
   ]
  },
  {
   "cell_type": "markdown",
   "id": "06563860",
   "metadata": {},
   "source": [
    "## Python Dictionary"
   ]
  },
  {
   "cell_type": "markdown",
   "id": "4c4684fd",
   "metadata": {},
   "source": [
    "### Defining a Dictionary"
   ]
  },
  {
   "cell_type": "code",
   "execution_count": 36,
   "id": "6cfd3ddb",
   "metadata": {},
   "outputs": [],
   "source": [
    "MLB_team = {\n",
    "    'Colorado' : 'Rockies',\n",
    "    'Boston' : 'Red Sox',\n",
    "    'Minnesota' : 'Twins',\n",
    "    'Milwaukee' : 'Brewers',\n",
    "    'Seattle' : 'Mariners'\n",
    "}"
   ]
  },
  {
   "cell_type": "markdown",
   "id": "ec8d4926",
   "metadata": {},
   "source": [
    "### Accessing Dictionary Values"
   ]
  },
  {
   "cell_type": "code",
   "execution_count": 37,
   "id": "558289dd",
   "metadata": {},
   "outputs": [
    {
     "name": "stdout",
     "output_type": "stream",
     "text": [
      "Twins\n",
      "Rockies\n"
     ]
    }
   ],
   "source": [
    "print(MLB_team['Minnesota'])\n",
    "print(MLB_team['Colorado'])\n"
   ]
  },
  {
   "cell_type": "code",
   "execution_count": 38,
   "id": "647e7210",
   "metadata": {},
   "outputs": [
    {
     "data": {
      "text/plain": [
       "{'Colorado': 'Rockies',\n",
       " 'Boston': 'Red Sox',\n",
       " 'Minnesota': 'Twins',\n",
       " 'Milwaukee': 'Brewers',\n",
       " 'Seattle': 'Mariners',\n",
       " 'Kansas City': 'Royals'}"
      ]
     },
     "execution_count": 38,
     "metadata": {},
     "output_type": "execute_result"
    }
   ],
   "source": [
    "MLB_team['Kansas City'] = 'Royals'\n",
    "MLB_team"
   ]
  },
  {
   "cell_type": "code",
   "execution_count": 39,
   "id": "1c1809c1",
   "metadata": {},
   "outputs": [],
   "source": [
    "MLB_team['Seattle'] = 'Seahawks'"
   ]
  },
  {
   "cell_type": "code",
   "execution_count": 40,
   "id": "33c18d32",
   "metadata": {},
   "outputs": [
    {
     "data": {
      "text/plain": [
       "{'Colorado': 'Rockies',\n",
       " 'Boston': 'Red Sox',\n",
       " 'Minnesota': 'Twins',\n",
       " 'Milwaukee': 'Brewers',\n",
       " 'Kansas City': 'Royals'}"
      ]
     },
     "execution_count": 40,
     "metadata": {},
     "output_type": "execute_result"
    }
   ],
   "source": [
    "del MLB_team['Seattle']\n",
    "MLB_team"
   ]
  },
  {
   "cell_type": "markdown",
   "id": "bd2cc1d3",
   "metadata": {},
   "source": [
    "### Building a Dictionary Incrementally"
   ]
  },
  {
   "cell_type": "code",
   "execution_count": 41,
   "id": "a79aa3c8",
   "metadata": {},
   "outputs": [],
   "source": [
    "person = {}\n",
    "type(person)\n",
    "\n",
    "person['fname'] = 'Hack'\n",
    "person['lname'] = 'PTP'\n",
    "person['age'] = 51\n",
    "person['spouse'] = 'Edna'\n",
    "person['children'] = ['Ralph', 'Betty', 'Joey']\n",
    "person['pets'] = {'dog' : 'Fido', 'cat' : 'Sox'}"
   ]
  },
  {
   "cell_type": "code",
   "execution_count": 42,
   "id": "403af69b",
   "metadata": {},
   "outputs": [
    {
     "data": {
      "text/plain": [
       "{'fname': 'Hack',\n",
       " 'lname': 'PTP',\n",
       " 'age': 51,\n",
       " 'spouse': 'Edna',\n",
       " 'children': ['Ralph', 'Betty', 'Joey'],\n",
       " 'pets': {'dog': 'Fido', 'cat': 'Sox'}}"
      ]
     },
     "execution_count": 42,
     "metadata": {},
     "output_type": "execute_result"
    }
   ],
   "source": [
    "person"
   ]
  },
  {
   "cell_type": "code",
   "execution_count": 43,
   "id": "322f153b",
   "metadata": {},
   "outputs": [
    {
     "name": "stdout",
     "output_type": "stream",
     "text": [
      "Hack\n",
      "PTP\n"
     ]
    }
   ],
   "source": [
    "print(person['fname'])\n",
    "print(person['lname'])"
   ]
  },
  {
   "cell_type": "code",
   "execution_count": 44,
   "id": "3e49a5b0",
   "metadata": {},
   "outputs": [
    {
     "name": "stdout",
     "output_type": "stream",
     "text": [
      "['Ralph', 'Betty', 'Joey']\n",
      "Betty\n"
     ]
    }
   ],
   "source": [
    "print(person['children'])\n",
    "print(person['children'][1])"
   ]
  },
  {
   "cell_type": "code",
   "execution_count": 45,
   "id": "8c311941",
   "metadata": {},
   "outputs": [
    {
     "name": "stdout",
     "output_type": "stream",
     "text": [
      "{'dog': 'Fido', 'cat': 'Sox'}\n",
      "Sox\n"
     ]
    }
   ],
   "source": [
    "print(person['pets'])\n",
    "print(person['pets']['cat'])"
   ]
  },
  {
   "cell_type": "code",
   "execution_count": 46,
   "id": "5d01b4bd",
   "metadata": {},
   "outputs": [
    {
     "name": "stdout",
     "output_type": "stream",
     "text": [
      "dict_items([('a', 10), ('b', 20), ('c', 30)])\n",
      "dict_keys(['a', 'b', 'c'])\n",
      "dict_values([10, 20, 30])\n"
     ]
    }
   ],
   "source": [
    "d = {'a' : 10, 'b' : 20, 'c':30}\n",
    "\n",
    "print(d.items())\n",
    "\n",
    "print(d.keys())\n",
    "\n",
    "print(d.values())"
   ]
  },
  {
   "cell_type": "markdown",
   "id": "bfc633ab",
   "metadata": {},
   "source": [
    "### Line Continuation"
   ]
  },
  {
   "cell_type": "code",
   "execution_count": 47,
   "id": "781e9bff",
   "metadata": {},
   "outputs": [],
   "source": [
    "person1_age = 42\n",
    "person2_age = 16\n",
    "person3_age = 71"
   ]
  },
  {
   "cell_type": "code",
   "execution_count": 48,
   "id": "8520a7ea",
   "metadata": {},
   "outputs": [
    {
     "ename": "SyntaxError",
     "evalue": "invalid syntax (Temp/ipykernel_8080/3993953970.py, line 2)",
     "output_type": "error",
     "traceback": [
      "\u001b[1;36m  File \u001b[1;32m\"C:\\Users\\ARES~1\\AppData\\Local\\Temp/ipykernel_8080/3993953970.py\"\u001b[1;36m, line \u001b[1;32m2\u001b[0m\n\u001b[1;33m    or(person2_age >= 18 and person2_age <= 65)\u001b[0m\n\u001b[1;37m    ^\u001b[0m\n\u001b[1;31mSyntaxError\u001b[0m\u001b[1;31m:\u001b[0m invalid syntax\n"
     ]
    }
   ],
   "source": [
    "someone_is_of_working_age = (person1_age >= 18 and person1_age <= 65) \n",
    "or(person2_age >= 18 and person2_age <= 65) \n",
    "or (person3_age >= 18 and person3_age <= 65)\n",
    "\n",
    "someone_is_of_working_age"
   ]
  },
  {
   "cell_type": "code",
   "execution_count": null,
   "id": "680715cf",
   "metadata": {},
   "outputs": [],
   "source": [
    "someone_is_of_working_age = (\n",
    "    (person1_age >= 18 and person1_age <= 65) \n",
    "or (person2_age >= 18 and person2_age <= 65) \n",
    "or (person3_age >= 18 and person3_age <= 65)\n",
    ")"
   ]
  },
  {
   "cell_type": "code",
   "execution_count": null,
   "id": "7263b34b",
   "metadata": {},
   "outputs": [],
   "source": [
    "someone_is_of_working_age"
   ]
  },
  {
   "cell_type": "code",
   "execution_count": null,
   "id": "d1d1ba1e",
   "metadata": {},
   "outputs": [],
   "source": []
  },
  {
   "cell_type": "code",
   "execution_count": null,
   "id": "4d7312bd",
   "metadata": {},
   "outputs": [],
   "source": []
  },
  {
   "cell_type": "code",
   "execution_count": null,
   "id": "6ee6203f",
   "metadata": {},
   "outputs": [],
   "source": []
  },
  {
   "cell_type": "code",
   "execution_count": null,
   "id": "0a79895d",
   "metadata": {},
   "outputs": [],
   "source": []
  }
 ],
 "metadata": {
  "kernelspec": {
   "display_name": "Python 3 (ipykernel)",
   "language": "python",
   "name": "python3"
  },
  "language_info": {
   "codemirror_mode": {
    "name": "ipython",
    "version": 3
   },
   "file_extension": ".py",
   "mimetype": "text/x-python",
   "name": "python",
   "nbconvert_exporter": "python",
   "pygments_lexer": "ipython3",
   "version": "3.8.8"
  }
 },
 "nbformat": 4,
 "nbformat_minor": 5
}
