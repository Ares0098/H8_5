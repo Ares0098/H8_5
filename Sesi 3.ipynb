{
 "cells": [
  {
   "cell_type": "markdown",
   "id": "94465080",
   "metadata": {},
   "source": [
    "## Python Function"
   ]
  },
  {
   "cell_type": "markdown",
   "id": "95bf69b1",
   "metadata": {},
   "source": [
    "### Defining Function"
   ]
  },
  {
   "cell_type": "code",
   "execution_count": 2,
   "id": "86a872ee",
   "metadata": {},
   "outputs": [],
   "source": [
    "def my_function(p, l) :\n",
    "    \"Function untuk menghitung luas\"\n",
    "    print(p * 1)"
   ]
  },
  {
   "cell_type": "code",
   "execution_count": 3,
   "id": "ffd24967",
   "metadata": {},
   "outputs": [
    {
     "name": "stdout",
     "output_type": "stream",
     "text": [
      "2\n"
     ]
    }
   ],
   "source": [
    "my_function(2,4)"
   ]
  },
  {
   "cell_type": "markdown",
   "id": "50b7c58e",
   "metadata": {},
   "source": [
    "### Calling a Function"
   ]
  },
  {
   "cell_type": "code",
   "execution_count": 6,
   "id": "fdaff7e9",
   "metadata": {},
   "outputs": [],
   "source": [
    "def printme(str) :\n",
    "    \"This prints a passed string into this function\"\n",
    "    print(str)\n",
    "    return\n",
    "\n"
   ]
  },
  {
   "cell_type": "code",
   "execution_count": 7,
   "id": "2ad4d6cd",
   "metadata": {},
   "outputs": [
    {
     "name": "stdout",
     "output_type": "stream",
     "text": [
      "I'm first call to user defined function!\n",
      "Again second call to the same function\n"
     ]
    }
   ],
   "source": [
    "printme(\"I'm first call to user defined function!\")\n",
    "printme(\"Again second call to the same function\")"
   ]
  },
  {
   "cell_type": "markdown",
   "id": "e53781a1",
   "metadata": {},
   "source": [
    "### Pass by Reference vs Pass by Value"
   ]
  },
  {
   "cell_type": "code",
   "execution_count": 9,
   "id": "8c256d90",
   "metadata": {},
   "outputs": [
    {
     "name": "stdout",
     "output_type": "stream",
     "text": [
      "Values inside the function :  [10, 20, 30, [1, 2, 3, 4]]\n",
      "Values outside the function :  [10, 20, 30, [1, 2, 3, 4]]\n"
     ]
    }
   ],
   "source": [
    "def changeme(mylist) :\n",
    "    \"This changes a passed list into this function\"\n",
    "    mylist.append([1, 2, 3, 4])\n",
    "    print(\"Values inside the function : \", mylist)\n",
    "    return\n",
    "\n",
    "mylist = [10, 20, 30]\n",
    "changeme(mylist)\n",
    "print(\"Values outside the function : \", mylist)\n",
    "\n"
   ]
  },
  {
   "cell_type": "code",
   "execution_count": 11,
   "id": "28de68b2",
   "metadata": {},
   "outputs": [
    {
     "name": "stdout",
     "output_type": "stream",
     "text": [
      "Values inside the function :  [1, 2, 3, 4]\n",
      "Values outside the function :  [10, 20, 30]\n"
     ]
    }
   ],
   "source": [
    "def changeme( mylist ) :\n",
    "    \"This changes a passed list into this function\"\n",
    "    mylist = [1, 2, 3, 4]\n",
    "    print(\"Values inside the function : \" , mylist)\n",
    "    return\n",
    "\n",
    "mylist = [10, 20, 30]\n",
    "changeme(mylist)\n",
    "print(\"Values outside the function : \", mylist)"
   ]
  },
  {
   "cell_type": "markdown",
   "id": "082236ff",
   "metadata": {},
   "source": [
    "### Function Arguments"
   ]
  },
  {
   "cell_type": "markdown",
   "id": "956751eb",
   "metadata": {},
   "source": [
    "#### Required arguments"
   ]
  },
  {
   "cell_type": "code",
   "execution_count": 12,
   "id": "2157d252",
   "metadata": {},
   "outputs": [
    {
     "ename": "TypeError",
     "evalue": "printme() missing 1 required positional argument: 'str'",
     "output_type": "error",
     "traceback": [
      "\u001b[1;31m---------------------------------------------------------------------------\u001b[0m",
      "\u001b[1;31mTypeError\u001b[0m                                 Traceback (most recent call last)",
      "\u001b[1;32mC:\\Users\\ARES~1\\AppData\\Local\\Temp/ipykernel_7880/896406984.py\u001b[0m in \u001b[0;36m<module>\u001b[1;34m\u001b[0m\n\u001b[0;32m      4\u001b[0m     \u001b[1;32mreturn\u001b[0m\u001b[1;33m\u001b[0m\u001b[1;33m\u001b[0m\u001b[0m\n\u001b[0;32m      5\u001b[0m \u001b[1;33m\u001b[0m\u001b[0m\n\u001b[1;32m----> 6\u001b[1;33m \u001b[0mprintme\u001b[0m\u001b[1;33m(\u001b[0m\u001b[1;33m)\u001b[0m\u001b[1;33m\u001b[0m\u001b[1;33m\u001b[0m\u001b[0m\n\u001b[0m",
      "\u001b[1;31mTypeError\u001b[0m: printme() missing 1 required positional argument: 'str'"
     ]
    }
   ],
   "source": [
    "def printme(str) :\n",
    "    \"This prints a passed string into this function\"\n",
    "    print(str)\n",
    "    return\n",
    "\n",
    "printme()"
   ]
  },
  {
   "cell_type": "code",
   "execution_count": 13,
   "id": "12f3eb14",
   "metadata": {},
   "outputs": [
    {
     "name": "stdout",
     "output_type": "stream",
     "text": [
      "Hacktiv8\n"
     ]
    }
   ],
   "source": [
    "def printme(str) :\n",
    "    \"This prints a passed string into this function\"\n",
    "    print(str)\n",
    "    return\n",
    "\n",
    "printme(str = \"Hacktiv8\")"
   ]
  },
  {
   "cell_type": "code",
   "execution_count": 16,
   "id": "f44bc637",
   "metadata": {},
   "outputs": [
    {
     "name": "stdout",
     "output_type": "stream",
     "text": [
      "Name :  a\n",
      "Age :  4\n"
     ]
    }
   ],
   "source": [
    "def printinfo(name, age) :\n",
    "    \"This prints a passed string into this function\"\n",
    "    print(\"Name : \", name)\n",
    "    print(\"Age : \", age)\n",
    "    return\n",
    "\n",
    "printinfo(age = 4, name=\"a\")"
   ]
  },
  {
   "cell_type": "markdown",
   "id": "68caa71d",
   "metadata": {},
   "source": [
    "#### Default arguments"
   ]
  },
  {
   "cell_type": "code",
   "execution_count": 17,
   "id": "114c53b9",
   "metadata": {},
   "outputs": [
    {
     "name": "stdout",
     "output_type": "stream",
     "text": [
      "Name :  Hacktiv8\n",
      "Age :  50\n",
      "Name :  Hacktiv8\n",
      "Age :  26\n"
     ]
    }
   ],
   "source": [
    "def printinfo(name, age = 26) :\n",
    "    \"This prints a passed string into this function\"\n",
    "    print(\"Name : \", name)\n",
    "    print(\"Age : \", age)\n",
    "    return\n",
    "\n",
    "printinfo(age = 50, name=\"Hacktiv8\")\n",
    "printinfo(name=\"Hacktiv8\")"
   ]
  },
  {
   "cell_type": "markdown",
   "id": "9c0f51e8",
   "metadata": {},
   "source": [
    "#### Variabel-Length arguments"
   ]
  },
  {
   "cell_type": "code",
   "execution_count": 18,
   "id": "db21f9aa",
   "metadata": {},
   "outputs": [
    {
     "name": "stdout",
     "output_type": "stream",
     "text": [
      "Output is: \n",
      "10\n",
      "Output is: \n",
      "70\n",
      "60\n",
      "50\n",
      "a\n"
     ]
    }
   ],
   "source": [
    "def printinfo(arg1, *vartuple) :\n",
    "    \"This prints a passed string into this function\"\n",
    "    print(\"Output is: \")\n",
    "    print(arg1)\n",
    "    for var in vartuple :\n",
    "        print(var)\n",
    "    return\n",
    "\n",
    "printinfo(10)\n",
    "printinfo(70, 60, 50, \"a\")"
   ]
  },
  {
   "cell_type": "markdown",
   "id": "23aaa821",
   "metadata": {},
   "source": [
    "### The Anonymous Function"
   ]
  },
  {
   "cell_type": "code",
   "execution_count": 21,
   "id": "ae9cc372",
   "metadata": {},
   "outputs": [
    {
     "name": "stdout",
     "output_type": "stream",
     "text": [
      "Value of total :  30\n",
      "Value of total :  None\n"
     ]
    }
   ],
   "source": [
    "sum1 = lambda arg1, arg2, : arg1 + arg2\n",
    "\n",
    "def sum2(arg1, arg2) :\n",
    "    has = arg1 + arg2\n",
    "    \n",
    "    \n",
    "print(\"Value of total : \", sum1(10, 20))\n",
    "print(\"Value of total : \", sum2(20, 20))"
   ]
  },
  {
   "cell_type": "markdown",
   "id": "d53dfd52",
   "metadata": {},
   "source": [
    "### The Return Statement"
   ]
  },
  {
   "cell_type": "code",
   "execution_count": 23,
   "id": "92c08784",
   "metadata": {},
   "outputs": [
    {
     "name": "stdout",
     "output_type": "stream",
     "text": [
      "Inside the function :  30\n",
      "Outside the function :  40\n"
     ]
    }
   ],
   "source": [
    "def sum3(arg1, arg2) :\n",
    "    total = arg1 + arg2\n",
    "    total2 = total + arg1\n",
    "    print(\"Inside the function : \", total)\n",
    "    return(total2)\n",
    "\n",
    "total = sum3(10, 20)\n",
    "print(\"Outside the function : \", total)"
   ]
  },
  {
   "cell_type": "markdown",
   "id": "30038894",
   "metadata": {},
   "source": [
    "### Scope of Variables"
   ]
  },
  {
   "cell_type": "markdown",
   "id": "7da0771a",
   "metadata": {},
   "source": [
    "#### Global vs. Loval Variables"
   ]
  },
  {
   "cell_type": "code",
   "execution_count": null,
   "id": "90ecb062",
   "metadata": {},
   "outputs": [],
   "source": [
    "total = 0\n",
    "\n",
    "def sum1 = ( arg1, arg2 ) :\n",
    "    total = arg1 + arg2\n",
    "    print(\"Inside the function local total : \", total)\n",
    "    return total\n",
    "\n",
    "def min()"
   ]
  }
 ],
 "metadata": {
  "kernelspec": {
   "display_name": "Python 3 (ipykernel)",
   "language": "python",
   "name": "python3"
  },
  "language_info": {
   "codemirror_mode": {
    "name": "ipython",
    "version": 3
   },
   "file_extension": ".py",
   "mimetype": "text/x-python",
   "name": "python",
   "nbconvert_exporter": "python",
   "pygments_lexer": "ipython3",
   "version": "3.8.8"
  }
 },
 "nbformat": 4,
 "nbformat_minor": 5
}
